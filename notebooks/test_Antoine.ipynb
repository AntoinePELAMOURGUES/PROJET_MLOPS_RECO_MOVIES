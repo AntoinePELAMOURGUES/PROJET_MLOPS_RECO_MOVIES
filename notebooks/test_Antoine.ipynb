{
 "cells": [
  {
   "cell_type": "code",
   "execution_count": null,
   "metadata": {},
   "outputs": [],
   "source": [
    "import os\n",
    "import pandas as pd\n",
    "import pickle\n",
    "from scipy.sparse import csr_matrix, save_npz\n",
    "import numpy as np\n",
    "from dotenv import load_dotenv\n",
    "from sklearn.feature_extraction.text import TfidfVectorizer\n",
    "from sklearn.metrics.pairwise import cosine_similarity\n",
    "from sklearn.decomposition import TruncatedSVD\n",
    "import joblib\n",
    "from surprise import Dataset, Reader\n",
    "from surprise.prediction_algorithms.matrix_factorization import SVD\n",
    "from surprise.model_selection import cross_validate\n"
   ]
  },
  {
   "cell_type": "code",
   "execution_count": null,
   "metadata": {},
   "outputs": [],
   "source": [
    "def load_data(raw_data_relative_path, filename):\n",
    "    \"\"\"\n",
    "    Charge les données des fichiers CSV dans des DataFrames pandas.\n",
    "\n",
    "    Args:\n",
    "        raw_data_relative_path (str): Chemin vers le répertoire contenant les fichiers CSV.\n",
    "\n",
    "    Returns:\n",
    "        tuple: DataFrames pour les évaluations, les films et les liens.\n",
    "    \"\"\"\n",
    "    try:\n",
    "        if \"ratings\" in filename:\n",
    "            df = pd.read_csv(\n",
    "                f\"{raw_data_relative_path}/{filename}\",\n",
    "                usecols=[\"userid\", \"movieid\", \"rating\"],  # Sélectionner les colonnes\n",
    "                dtype={\"rating\": \"float32\", \"userid\": str, \"movieid\": str},\n",
    "            )\n",
    "            return df\n",
    "        elif \"movies\" in filename:\n",
    "            df = pd.read_csv(\n",
    "                f\"{raw_data_relative_path}/{filename}\",\n",
    "                usecols=[\"movieid\", \"title\", \"genres\"],  # Sélectionner les colonnes\n",
    "                dtype={\"movieid\": str, \"title\": str, \"genres\": str},\n",
    "            )\n",
    "            return df\n",
    "        print(f\"Fichier {filename} chargé avec succès.\")\n",
    "    except FileNotFoundError as e:\n",
    "        print(f\"File not found: {e}\")\n",
    "    except pd.errors.EmptyDataError as e:\n",
    "        print(f\"No data: {e}\")\n",
    "    except Exception as e:\n",
    "        print(f\"An error occurred while loading data: {e}\")\n"
   ]
  },
  {
   "cell_type": "code",
   "execution_count": null,
   "metadata": {},
   "outputs": [],
   "source": [
    "def filterred_data(df):\n",
    "    \"\"\"\n",
    "    Filtrer les données pour ne conserver que les films ayant reçu au moins 200 évaluations\n",
    "    et les utilsateurs ayant évalués au moins 200 films.\n",
    "    \"\"\"\n",
    "    user_counts = df[\"userid\"].value_counts()\n",
    "    users_with_more_than_200_ratings = user_counts[user_counts > 400].index\n",
    "\n",
    "    # Étape 2 : Compter le nombre de notes par film\n",
    "    movie_counts = df[\"movieid\"].value_counts()\n",
    "    movies_with_at_least_10_ratings = movie_counts[movie_counts >= 400].index\n",
    "\n",
    "    # Étape 3 : Filtrer le DataFrame\n",
    "    df = df[\n",
    "        (df[\"userid\"].isin(users_with_more_than_200_ratings))\n",
    "        & (df[\"movieid\"].isin(movies_with_at_least_10_ratings))\n",
    "    ]\n",
    "\n",
    "    return df"
   ]
  },
  {
   "cell_type": "code",
   "execution_count": null,
   "metadata": {},
   "outputs": [],
   "source": [
    "def train_TFIDF_model(df, data_directory):\n",
    "    \"\"\"\n",
    "    Entraîne un modèle TF-IDF pour extraire des caractéristiques des genres de films.\n",
    "    \"\"\"\n",
    "    # Démarrer une nouvelle expérience MLflow\n",
    "    # mlflow.start_run()\n",
    "\n",
    "    start_time = datetime.now()  # Démarrer la mesure du temps\n",
    "\n",
    "    # Vérifier les colonnes et le contenu\n",
    "    print(\"Colonnes du DataFrame :\", df.columns)\n",
    "    print(\"Aperçu du DataFrame :\")\n",
    "    print(df.head())\n",
    "\n",
    "    # Créer une instance de TfidfVectorizer\n",
    "    tfidf = TfidfVectorizer()\n",
    "\n",
    "    # Calculer la matrice TF-IDF\n",
    "    tfidf_matrix = tfidf.fit_transform(df[\"genres\"])\n",
    "\n",
    "    # Afficher la taille de la matrice\n",
    "    print(f\"Dimensions de notre matrice TF-IDF : {tfidf_matrix.shape}\")\n",
    "\n",
    "    # Calculer la similarité cosinus par morceaux\n",
    "    sim_cosinus = cosine_similarity(tfidf_matrix, tfidf_matrix)\n",
    "    print(f\"Dimensions de la matrice de similarité cosinus : {sim_cosinus.shape}\")\n",
    "\n",
    "    os.makedirs(data_directory, exist_ok=True)  # Crée le répertoire si nécessaire\n",
    "\n",
    "    # Sauvegarder les éléments essentiels\n",
    "    joblib.dump(tfidf, os.path.join(data_directory, 'tfidf_model.joblib'))\n",
    "    joblib.dump(sim_cosinus, os.path.join(data_directory, 'sim_cosinus.joblib'))\n",
    "    df[['movieid']].to_csv(os.path.join(data_directory, 'movieid.csv'), index=False)\n",
    "\n",
    "    return tfidf, sim_cosinus, df['movieid']\n"
   ]
  },
  {
   "cell_type": "code",
   "execution_count": null,
   "metadata": {},
   "outputs": [],
   "source": [
    "from tabulate import tabulate\n",
    "\n",
    "def recommandations(titre, sim_cosinus, movieid, num_recommandations=10):\n",
    "    \"\"\"Fonction qui à partir des indices trouvés, renvoie les movie_id des films les plus similaires.\"\"\"\n",
    "    # récupérer dans idx l'indice associé au titre depuis la série indices\n",
    "    #idx = indices[titre]\n",
    "    idx = movieid.index(titre)\n",
    "    # garder dans une liste les scores de similarité correspondants à l'index du film cible\n",
    "    score_sim = list(enumerate(sim_cosinus[idx]))\n",
    "    #  trier les scores de similarité, trouver les plus similaires et récupérer ses indices\n",
    "    score_sim = sorted(score_sim, key=lambda x: x[1], reverse=True)\n",
    "    # Obtenir les scores des 10 films les plus similaires\n",
    "    top_similair = score_sim[1:num_recommandations+1]\n",
    "    # Obtenir les indices des films\n",
    "    res = [(movieid[idx], score) for idx, score in top_similair]\n",
    "    # Renvoyer les movie_id des films les plus similaires\n",
    "    return tabulate(res, headers=[\"movie_id\", \"Score de similarité\"], tablefmt=\"pretty\")"
   ]
  },
  {
   "cell_type": "code",
   "execution_count": null,
   "metadata": {},
   "outputs": [],
   "source": [
    "def load_tfidf_model_artifacts(data_directory):\n",
    "    \"\"\"Charge les artefacts du modèle TF-IDF sauvegardés.\"\"\"\n",
    "    tfidf = joblib.load(os.path.join(data_directory, 'tfidf_model.joblib'))\n",
    "    sim_cosinus = joblib.load(os.path.join(data_directory, 'sim_cosinus.joblib'))\n",
    "    movieid = pd.read_csv(os.path.join(data_directory, 'movieid.csv'))['movieid'].tolist()\n",
    "    return tfidf, sim_cosinus, movieid"
   ]
  },
  {
   "cell_type": "code",
   "execution_count": null,
   "metadata": {},
   "outputs": [
    {
     "name": "stdout",
     "output_type": "stream",
     "text": [
      "(20000263, 5)\n",
      "(20000263, 5)\n"
     ]
    },
    {
     "data": {
      "text/html": [
       "<div>\n",
       "<style scoped>\n",
       "    .dataframe tbody tr th:only-of-type {\n",
       "        vertical-align: middle;\n",
       "    }\n",
       "\n",
       "    .dataframe tbody tr th {\n",
       "        vertical-align: top;\n",
       "    }\n",
       "\n",
       "    .dataframe thead th {\n",
       "        text-align: right;\n",
       "    }\n",
       "</style>\n",
       "<table border=\"1\" class=\"dataframe\">\n",
       "  <thead>\n",
       "    <tr style=\"text-align: right;\">\n",
       "      <th></th>\n",
       "      <th>userid</th>\n",
       "      <th>movieid</th>\n",
       "      <th>rating</th>\n",
       "      <th>title</th>\n",
       "      <th>genres</th>\n",
       "    </tr>\n",
       "  </thead>\n",
       "  <tbody>\n",
       "    <tr>\n",
       "      <th>0</th>\n",
       "      <td>1</td>\n",
       "      <td>2</td>\n",
       "      <td>3.5</td>\n",
       "      <td>Jumanji</td>\n",
       "      <td>Adventure, Children, Fantasy</td>\n",
       "    </tr>\n",
       "    <tr>\n",
       "      <th>1</th>\n",
       "      <td>1</td>\n",
       "      <td>29</td>\n",
       "      <td>3.5</td>\n",
       "      <td>City of Lost Children, The (Cité des enfants p...</td>\n",
       "      <td>Adventure, Drama, Fantasy, Mystery, Sci-Fi</td>\n",
       "    </tr>\n",
       "    <tr>\n",
       "      <th>2</th>\n",
       "      <td>1</td>\n",
       "      <td>32</td>\n",
       "      <td>3.5</td>\n",
       "      <td>Twelve Monkeys (a.k.a. 12 Monkeys)</td>\n",
       "      <td>Mystery, Sci-Fi, Thriller</td>\n",
       "    </tr>\n",
       "    <tr>\n",
       "      <th>3</th>\n",
       "      <td>1</td>\n",
       "      <td>47</td>\n",
       "      <td>3.5</td>\n",
       "      <td>Seven (a.k.a. Se7en)</td>\n",
       "      <td>Mystery, Thriller</td>\n",
       "    </tr>\n",
       "    <tr>\n",
       "      <th>4</th>\n",
       "      <td>1</td>\n",
       "      <td>50</td>\n",
       "      <td>3.5</td>\n",
       "      <td>Usual Suspects, The</td>\n",
       "      <td>Crime, Mystery, Thriller</td>\n",
       "    </tr>\n",
       "  </tbody>\n",
       "</table>\n",
       "</div>"
      ],
      "text/plain": [
       "  userid movieid  rating                                              title  \\\n",
       "0      1       2     3.5                                            Jumanji   \n",
       "1      1      29     3.5  City of Lost Children, The (Cité des enfants p...   \n",
       "2      1      32     3.5                 Twelve Monkeys (a.k.a. 12 Monkeys)   \n",
       "3      1      47     3.5                               Seven (a.k.a. Se7en)   \n",
       "4      1      50     3.5                                Usual Suspects, The   \n",
       "\n",
       "                                       genres  \n",
       "0                Adventure, Children, Fantasy  \n",
       "1  Adventure, Drama, Fantasy, Mystery, Sci-Fi  \n",
       "2                   Mystery, Sci-Fi, Thriller  \n",
       "3                           Mystery, Thriller  \n",
       "4                    Crime, Mystery, Thriller  "
      ]
     },
     "execution_count": 11,
     "metadata": {},
     "output_type": "execute_result"
    }
   ],
   "source": [
    "my_project_directory = os.path.join(\"/home/antoine/PROJET_MLOPS_RECO_MOVIES/\")\n",
    "raw_data_relative_path = os.path.join(my_project_directory, \"data/raw/silver\")\n",
    "movies = load_data(raw_data_relative_path, \"processed_movies.csv\")\n",
    "ratings = load_data(raw_data_relative_path, \"processed_ratings.csv\")\n",
    "df = pd.merge(ratings, movies, on=\"movieid\", how=\"left\")\n",
    "print(df.shape)\n",
    "# df = filterred_data(df)\n",
    "print(df.shape)\n",
    "df['userid'] = df['userid'].astype('category')\n",
    "df['title'] = df['title'].astype('category')\n",
    "df.head()"
   ]
  },
  {
   "cell_type": "code",
   "execution_count": 5,
   "metadata": {},
   "outputs": [
    {
     "name": "stdout",
     "output_type": "stream",
     "text": [
      "(20000263, 5) (276986, 5)\n"
     ]
    },
    {
     "data": {
      "text/html": [
       "<div>\n",
       "<style scoped>\n",
       "    .dataframe tbody tr th:only-of-type {\n",
       "        vertical-align: middle;\n",
       "    }\n",
       "\n",
       "    .dataframe tbody tr th {\n",
       "        vertical-align: top;\n",
       "    }\n",
       "\n",
       "    .dataframe thead th {\n",
       "        text-align: right;\n",
       "    }\n",
       "</style>\n",
       "<table border=\"1\" class=\"dataframe\">\n",
       "  <thead>\n",
       "    <tr style=\"text-align: right;\">\n",
       "      <th></th>\n",
       "      <th>userid</th>\n",
       "      <th>movieid</th>\n",
       "      <th>rating</th>\n",
       "      <th>title</th>\n",
       "      <th>genres</th>\n",
       "    </tr>\n",
       "  </thead>\n",
       "  <tbody>\n",
       "    <tr>\n",
       "      <th>0</th>\n",
       "      <td>1</td>\n",
       "      <td>2</td>\n",
       "      <td>3.5</td>\n",
       "      <td>Jumanji</td>\n",
       "      <td>Adventure, Children, Fantasy</td>\n",
       "    </tr>\n",
       "    <tr>\n",
       "      <th>1</th>\n",
       "      <td>1</td>\n",
       "      <td>29</td>\n",
       "      <td>3.5</td>\n",
       "      <td>City of Lost Children, The (Cité des enfants p...</td>\n",
       "      <td>Adventure, Drama, Fantasy, Mystery, Sci-Fi</td>\n",
       "    </tr>\n",
       "    <tr>\n",
       "      <th>175</th>\n",
       "      <td>2</td>\n",
       "      <td>3</td>\n",
       "      <td>4.0</td>\n",
       "      <td>Grumpier Old Men</td>\n",
       "      <td>Comedy, Romance</td>\n",
       "    </tr>\n",
       "    <tr>\n",
       "      <th>176</th>\n",
       "      <td>2</td>\n",
       "      <td>62</td>\n",
       "      <td>5.0</td>\n",
       "      <td>Mr. Holland's Opus</td>\n",
       "      <td>Drama</td>\n",
       "    </tr>\n",
       "    <tr>\n",
       "      <th>236</th>\n",
       "      <td>3</td>\n",
       "      <td>1</td>\n",
       "      <td>4.0</td>\n",
       "      <td>Toy Story</td>\n",
       "      <td>Adventure, Animation, Children, Comedy, Fantasy</td>\n",
       "    </tr>\n",
       "    <tr>\n",
       "      <th>237</th>\n",
       "      <td>3</td>\n",
       "      <td>24</td>\n",
       "      <td>3.0</td>\n",
       "      <td>Powder</td>\n",
       "      <td>Drama, Sci-Fi</td>\n",
       "    </tr>\n",
       "    <tr>\n",
       "      <th>423</th>\n",
       "      <td>4</td>\n",
       "      <td>6</td>\n",
       "      <td>3.0</td>\n",
       "      <td>Heat</td>\n",
       "      <td>Action, Crime, Thriller</td>\n",
       "    </tr>\n",
       "    <tr>\n",
       "      <th>424</th>\n",
       "      <td>4</td>\n",
       "      <td>10</td>\n",
       "      <td>4.0</td>\n",
       "      <td>GoldenEye</td>\n",
       "      <td>Action, Adventure, Thriller</td>\n",
       "    </tr>\n",
       "    <tr>\n",
       "      <th>451</th>\n",
       "      <td>5</td>\n",
       "      <td>2</td>\n",
       "      <td>3.0</td>\n",
       "      <td>Jumanji</td>\n",
       "      <td>Adventure, Children, Fantasy</td>\n",
       "    </tr>\n",
       "    <tr>\n",
       "      <th>452</th>\n",
       "      <td>5</td>\n",
       "      <td>11</td>\n",
       "      <td>5.0</td>\n",
       "      <td>American President, The</td>\n",
       "      <td>Comedy, Drama, Romance</td>\n",
       "    </tr>\n",
       "  </tbody>\n",
       "</table>\n",
       "</div>"
      ],
      "text/plain": [
       "    userid movieid  rating                                              title  \\\n",
       "0        1       2     3.5                                            Jumanji   \n",
       "1        1      29     3.5  City of Lost Children, The (Cité des enfants p...   \n",
       "175      2       3     4.0                                   Grumpier Old Men   \n",
       "176      2      62     5.0                                 Mr. Holland's Opus   \n",
       "236      3       1     4.0                                          Toy Story   \n",
       "237      3      24     3.0                                             Powder   \n",
       "423      4       6     3.0                                               Heat   \n",
       "424      4      10     4.0                                          GoldenEye   \n",
       "451      5       2     3.0                                            Jumanji   \n",
       "452      5      11     5.0                            American President, The   \n",
       "\n",
       "                                              genres  \n",
       "0                       Adventure, Children, Fantasy  \n",
       "1         Adventure, Drama, Fantasy, Mystery, Sci-Fi  \n",
       "175                                  Comedy, Romance  \n",
       "176                                            Drama  \n",
       "236  Adventure, Animation, Children, Comedy, Fantasy  \n",
       "237                                    Drama, Sci-Fi  \n",
       "423                          Action, Crime, Thriller  \n",
       "424                      Action, Adventure, Thriller  \n",
       "451                     Adventure, Children, Fantasy  \n",
       "452                           Comedy, Drama, Romance  "
      ]
     },
     "execution_count": 5,
     "metadata": {},
     "output_type": "execute_result"
    }
   ],
   "source": [
    "def limit_ratings_per_user(df, n=5):\n",
    "  \"\"\"\n",
    "  Limite le DataFrame à un maximum de n notations par utilisateur.\n",
    "\n",
    "  Args:\n",
    "    df: Le DataFrame contenant les colonnes 'userid' et 'rating'.\n",
    "    n: Le nombre maximum de notations à conserver par utilisateur.\n",
    "\n",
    "  Returns:\n",
    "    Un nouveau DataFrame contenant au plus n notations par utilisateur.\n",
    "  \"\"\"\n",
    "  limited_df = df.groupby('userid').head(n)\n",
    "  print(df.shape, limited_df.shape)\n",
    "  return limited_df\n",
    "\n",
    "\n",
    "limited_df = limit_ratings_per_user(df, n=2)\n",
    "limited_df.head(10)"
   ]
  },
  {
   "cell_type": "code",
   "execution_count": 7,
   "metadata": {},
   "outputs": [],
   "source": [
    "import dask.dataframe as dd\n",
    "import dask.array as da\n",
    "\n",
    "def train_matrix_factorization_model_dask(df, data_directory, npartitions=4, n_components=10):\n",
    "    \"\"\"\n",
    "    Entraîne un modèle de factorisation matricielle avec Dask pour prédire les évaluations des utilisateurs.\n",
    "    \"\"\"\n",
    "\n",
    "    start_time = datetime.now()\n",
    "\n",
    "    # 1. Convertir le DataFrame pandas en DataFrame Dask\n",
    "    ddf = dd.from_pandas(df, npartitions=npartitions)\n",
    "\n",
    "    # 2. Calcul de la table pivot avec Dask\n",
    "    mat_ratings = ddf.pivot_table(values='rating', columns='title', index='userid').compute() # .compute() ici\n",
    "\n",
    "    mat_ratings = mat_ratings.fillna(0)\n",
    "    # 3. Conversion en matrice creuse\n",
    "    sparse_ratings = csr_matrix(mat_ratings)\n",
    "\n",
    "    user_ids = mat_ratings.index.tolist()\n",
    "    titles = mat_ratings.columns.tolist()\n",
    "\n",
    "    # 4. Factorisation matricielle\n",
    "    svd = TruncatedSVD(n_components=n_components)\n",
    "    ratings_red = svd.fit_transform(sparse_ratings.T)\n",
    "\n",
    "    # 5. Calcul de la similarité cosinus\n",
    "    item_similarity = cosine_similarity(ratings_red)\n",
    "    item_similarity = pd.DataFrame(item_similarity, index=titles, columns=titles)\n",
    "\n",
    "    # 6. Sauvegarder les éléments essentiels\n",
    "    joblib.dump(svd, os.path.join(data_directory, 'svd_model.joblib'))\n",
    "    with open(os.path.join(data_directory, 'titles.pkl'), 'wb') as f:\n",
    "        pickle.dump(titles, f)\n",
    "    joblib.dump(item_similarity, os.path.join(data_directory, 'item_similarity.joblib'))\n",
    "    joblib.dump(mat_ratings, os.path.join(data_directory, 'mat_ratings.joblib'))\n",
    "\n",
    "    return mat_ratings, item_similarity, titles, svd"
   ]
  },
  {
   "cell_type": "code",
   "execution_count": 6,
   "metadata": {},
   "outputs": [],
   "source": [
    "from memory_profiler import profile\n",
    "\n",
    "@profile\n",
    "def train_matrix_factorization_model(df, data_directory):\n",
    "    \"\"\"\n",
    "    Entraîne un modèle de factorisation matricielle pour prédire les évaluations des utilisateurs.\n",
    "    \"\"\"\n",
    "    # Démarrer une nouvelle expérience MLflow\n",
    "    # mlflow.start_run()\n",
    "\n",
    "    start_time = datetime.now()  # Démarrer la mesure du temps\n",
    "\n",
    "    # df = df.sample(frac=0.5, random_state=42).reset_index(drop=True)\n",
    "    mat_ratings = pd.pivot_table(\n",
    "        data=df, values=\"rating\", columns=\"title\", index=\"userid\"\n",
    "    )\n",
    "    mat_ratings = (\n",
    "        mat_ratings + 1\n",
    "    )  # On ajoute 1 à toutes les notes pour éviter les problèmes de division par 0\n",
    "    mat_ratings = mat_ratings.fillna(0)\n",
    "    sparse_ratings = csr_matrix(mat_ratings)\n",
    "    user_ids = mat_ratings.index.tolist()\n",
    "    titles = mat_ratings.columns.tolist()\n",
    "    # Appliquer la factorisation matricielle\n",
    "    svd = TruncatedSVD(n_components=10)\n",
    "    ratings_red = svd.fit_transform(sparse_ratings.T)\n",
    "    item_similarity = cosine_similarity(ratings_red)\n",
    "    item_similarity = pd.DataFrame(item_similarity, index=titles, columns=titles)\n",
    "\n",
    "    # Sauvegarder les éléments essentiels\n",
    "    joblib.dump(svd, os.path.join(data_directory, 'svd_model.joblib'))\n",
    "    with open(os.path.join(data_directory, 'titles.pkl'), 'wb') as f:\n",
    "        pickle.dump(titles, f)\n",
    "    joblib.dump(item_similarity, os.path.join(data_directory, 'item_similarity.joblib'))\n",
    "    joblib.dump(mat_ratings, os.path.join(data_directory, 'mat_ratings.joblib'))\n",
    "\n",
    "    return mat_ratings, item_similarity, titles, svd"
   ]
  },
  {
   "cell_type": "code",
   "execution_count": 7,
   "metadata": {},
   "outputs": [
    {
     "name": "stdout",
     "output_type": "stream",
     "text": [
      "ERROR: Could not find file /tmp/ipykernel_84336/3653479148.py\n"
     ]
    },
    {
     "ename": "",
     "evalue": "",
     "output_type": "error",
     "traceback": [
      "\u001b[1;31mLe noyau s’est bloqué lors de l’exécution du code dans une cellule active ou une cellule précédente. \n",
      "\u001b[1;31mVeuillez vérifier le code dans la ou les cellules pour identifier une cause possible de l’échec. \n",
      "\u001b[1;31mCliquez <a href='https://aka.ms/vscodeJupyterKernelCrash'>ici</a> pour plus d’informations. \n",
      "\u001b[1;31mPour plus d’informations, consultez Jupyter <a href='command:jupyter.viewOutput'>log</a>."
     ]
    }
   ],
   "source": [
    "mat_ratings, item_similarity, titles, svd = train_matrix_factorization_model(limited_df, os.path.join(my_project_directory, \"data/models/\"))"
   ]
  },
  {
   "cell_type": "code",
   "execution_count": 12,
   "metadata": {},
   "outputs": [],
   "source": [
    "def pred_item(mat_ratings, item_similarity, k, user_id):\n",
    "    # Sélectionner dans mat_ratings les films qui n'ont pas été encore lu par le user\n",
    "    to_predict = mat_ratings.loc[user_id][mat_ratings.loc[user_id]==0]\n",
    "    # Itérer sur tous ces films\n",
    "    for i in to_predict.index:\n",
    "        #Trouver les k films les plus similaires en excluant le film lui-même\n",
    "        similar_items = item_similarity.loc[i].sort_values(ascending=False)[1:k+1]\n",
    "        # Calcul de la norme du vecteur similar_items\n",
    "        norm = np.sum(np.abs(similar_items))\n",
    "        # Récupérer les notes données par l'utilisateur aux k plus proches voisins\n",
    "        ratings = mat_ratings[similar_items.index].loc[user_id]\n",
    "        # Calculer le produit scalaire entre ratings et similar_items\n",
    "        scalar_prod = np.dot(ratings,similar_items)\n",
    "        #Calculer la note prédite pour le film i\n",
    "        pred = scalar_prod / norm\n",
    "        # Remplacer par la prédiction\n",
    "        to_predict[i] = pred\n",
    "    return to_predict"
   ]
  },
  {
   "cell_type": "code",
   "execution_count": 16,
   "metadata": {},
   "outputs": [
    {
     "name": "stdout",
     "output_type": "stream",
     "text": [
      "['Snatch', 'Professional, The (Le professionnel)', 'Fight Club', 'Graduate, The', 'Lost in Translation', \"Monty Python's Life of Brian\", 'Maltese Falcon, The', 'Birds, The', 'Super Size Me', 'Run Lola Run (Lola rennt)', '2001: A Space Odyssey', 'Back to the Future']\n"
     ]
    }
   ],
   "source": [
    "recommandation = pred_item(mat_ratings, item_similarity, 12, '10001')\n",
    "recommandation = recommandation.sort_values(ascending=False).head(12)\n",
    "titles = recommandation.index.tolist()\n",
    "print(titles)"
   ]
  },
  {
   "cell_type": "code",
   "execution_count": 15,
   "metadata": {},
   "outputs": [
    {
     "name": "stdout",
     "output_type": "stream",
     "text": [
      "title   'Til There Was You  'burbs, The  (500) Days of Summer  \\\n",
      "userid                                                          \n",
      "100009                 0.0          0.0                   0.0   \n",
      "10001                  0.0          0.0                   0.0   \n",
      "100020                 0.0          0.0                   0.0   \n",
      "100023                 0.0          0.0                   0.0   \n",
      "100052                 0.0          0.0                   0.0   \n",
      "...                    ...          ...                   ...   \n",
      "99941                  0.0          0.0                   0.0   \n",
      "99967                  0.0          0.0                   0.0   \n",
      "99968                  0.0          0.0                   0.0   \n",
      "99985                  0.0          0.0                   0.0   \n",
      "99991                  0.0          0.0                   0.0   \n",
      "\n",
      "title   *batteries not included  ...And Justice for All   10  \\\n",
      "userid                                                         \n",
      "100009                      0.0                     0.0  0.0   \n",
      "10001                       0.0                     0.0  0.0   \n",
      "100020                      0.0                     0.0  0.0   \n",
      "100023                      0.0                     0.0  0.0   \n",
      "100052                      0.0                     0.0  0.0   \n",
      "...                         ...                     ...  ...   \n",
      "99941                       0.0                     0.0  0.0   \n",
      "99967                       0.0                     0.0  0.0   \n",
      "99968                       0.0                     0.0  0.0   \n",
      "99985                       4.0                     0.0  0.0   \n",
      "99991                       0.0                     0.0  0.0   \n",
      "\n",
      "title   10 Items or Less  10 Things I Hate About You  10,000 BC  \\\n",
      "userid                                                            \n",
      "100009               0.0                         0.0        0.0   \n",
      "10001                0.0                         4.0        0.0   \n",
      "100020               0.0                         0.0        0.0   \n",
      "100023               0.0                         0.0        0.0   \n",
      "100052               0.0                         0.0        0.0   \n",
      "...                  ...                         ...        ...   \n",
      "99941                0.0                         0.0        0.0   \n",
      "99967                0.0                         0.0        0.0   \n",
      "99968                0.0                         0.0        0.0   \n",
      "99985                0.0                         0.0        0.0   \n",
      "99991                0.0                         0.0        0.0   \n",
      "\n",
      "title   101 Dalmatians  ...  Zombieland  Zoolander  \\\n",
      "userid                  ...                          \n",
      "100009             0.0  ...         0.0        0.0   \n",
      "10001              0.0  ...         0.0        0.0   \n",
      "100020             0.0  ...         0.0        3.0   \n",
      "100023             0.0  ...         0.0        0.0   \n",
      "100052             0.0  ...         0.0        0.0   \n",
      "...                ...  ...         ...        ...   \n",
      "99941              0.0  ...         0.0        0.0   \n",
      "99967              0.0  ...         0.0        0.0   \n",
      "99968              0.0  ...         0.0        0.0   \n",
      "99985              0.0  ...         0.0        5.5   \n",
      "99991              0.0  ...         0.0        0.0   \n",
      "\n",
      "title   Zorba the Greek (Alexis Zorbas)  Zorro, the Gay Blade  Zulu  [REC]  \\\n",
      "userid                                                                       \n",
      "100009                              0.0                   0.0   0.0    0.0   \n",
      "10001                               0.0                   0.0   0.0    0.0   \n",
      "100020                              0.0                   0.0   0.0    0.0   \n",
      "100023                              0.0                   0.0   0.0    0.0   \n",
      "100052                              0.0                   0.0   0.0    0.0   \n",
      "...                                 ...                   ...   ...    ...   \n",
      "99941                               0.0                   0.0   0.0    0.0   \n",
      "99967                               0.0                   0.0   0.0    0.0   \n",
      "99968                               0.0                   0.0   0.0    0.0   \n",
      "99985                               0.0                   0.0   0.0    0.0   \n",
      "99991                               0.0                   0.0   0.0    0.0   \n",
      "\n",
      "title   eXistenZ  xXx  xXx: State of the Union  ¡Three Amigos!  \n",
      "userid                                                          \n",
      "100009       0.0  0.0                      0.0             0.0  \n",
      "10001        0.0  0.0                      0.0             0.0  \n",
      "100020       0.0  0.0                      3.5             0.0  \n",
      "100023       0.0  0.0                      0.0             5.0  \n",
      "100052       0.0  0.0                      0.0             0.0  \n",
      "...          ...  ...                      ...             ...  \n",
      "99941        0.0  0.0                      0.0             0.0  \n",
      "99967        0.0  0.0                      0.0             0.0  \n",
      "99968        0.0  0.0                      0.0             2.0  \n",
      "99985        5.0  0.0                      0.0             5.0  \n",
      "99991        0.0  0.0                      0.0             0.0  \n",
      "\n",
      "[10638 rows x 4907 columns]\n"
     ]
    }
   ],
   "source": [
    "print(mat_ratings)"
   ]
  },
  {
   "cell_type": "code",
   "execution_count": 16,
   "metadata": {},
   "outputs": [],
   "source": [
    "title_to_movieid = dict(zip(movies[\"title\"], movies[\"movieid\"]))\n"
   ]
  },
  {
   "cell_type": "code",
   "execution_count": 17,
   "metadata": {},
   "outputs": [
    {
     "name": "stdout",
     "output_type": "stream",
     "text": [
      "['33823', '52', '4738', '3566', '1407', '5128', '1381', '4487', '2558', '1353', '3269', '2082']\n"
     ]
    }
   ],
   "source": [
    "reco = [title_to_movieid[title] for title in titles]\n",
    "print(reco)"
   ]
  },
  {
   "cell_type": "code",
   "execution_count": 1,
   "metadata": {},
   "outputs": [],
   "source": [
    "from surprise import Dataset, Reader\n",
    "from surprise.prediction_algorithms.matrix_factorization import SVD\n",
    "from surprise import accuracy\n",
    "import pandas as pd\n",
    "from surprise.model_selection import cross_validate\n",
    "import os\n",
    "import pickle"
   ]
  },
  {
   "cell_type": "code",
   "execution_count": 2,
   "metadata": {},
   "outputs": [],
   "source": [
    "def load_model(filepath: str, version: str):\n",
    "    \"\"\"Charge le modèle entraîné depuis un fichier.\"\"\"\n",
    "    base, ext = os.path.splitext(filepath)\n",
    "    versioned_filepath = f\"{base}_{version}{ext}\"\n",
    "\n",
    "    with open(versioned_filepath, 'rb') as file:\n",
    "        model_data = pickle.load(file)\n",
    "        model = model_data['model']\n",
    "        reader = model_data['reader']\n",
    "        print(f'Modèle chargé depuis {versioned_filepath}')\n",
    "        return model, reader"
   ]
  },
  {
   "cell_type": "code",
   "execution_count": 4,
   "metadata": {},
   "outputs": [
    {
     "name": "stdout",
     "output_type": "stream",
     "text": [
      "Modèle chargé depuis /home/antoine/PROJET_MLOPS_RECO_MOVIES/data/models/svd_model_v1.pkl\n"
     ]
    }
   ],
   "source": [
    "model, reader = load_model(os.path.join(\"/home/antoine/PROJET_MLOPS_RECO_MOVIES/data/models/svd_model.pkl\"), 'v1')"
   ]
  },
  {
   "cell_type": "code",
   "execution_count": 5,
   "metadata": {},
   "outputs": [],
   "source": [
    "import pandas as pd\n",
    "from surprise import SVD, Dataset\n",
    "\n",
    "def recommend_movies(model: SVD, user_id: int, df: pd.DataFrame, top_n: int = 10) -> list:\n",
    "    \"\"\"\n",
    "    Recommande des films à un utilisateur en fonction de ses évaluations prédites.\n",
    "\n",
    "    :param model: Le modèle SVD entraîné.\n",
    "    :param user_id: L'ID de l'utilisateur pour lequel on veut des recommandations.\n",
    "    :param df: DataFrame contenant les données des films et les évaluations.\n",
    "    :param top_n: Le nombre de films à recommander.\n",
    "    :return: Une liste des top_n films recommandés.\n",
    "    \"\"\"\n",
    "    # 1. Obtenir la liste des films que l'utilisateur a déjà évalués\n",
    "    movies_already_rated = df[df['userid'] == user_id]['movieid'].unique()\n",
    "\n",
    "    # 2. Créer une liste de tous les films possibles\n",
    "    all_movie_ids = df['movieid'].unique()\n",
    "\n",
    "    # 3. Filtrer les films que l'utilisateur n'a pas encore évalués\n",
    "    movies_to_predict = [movie_id for movie_id in all_movie_ids if movie_id not in movies_already_rated]\n",
    "\n",
    "    # 4. Faire des prédictions pour chaque film non évalué\n",
    "    predictions = []\n",
    "    for movie_id in movies_to_predict:\n",
    "        predictions.append((movie_id, model.predict(user_id, movie_id).est))\n",
    "\n",
    "    # 5. Trier les prédictions par ordre décroissant d'évaluation prédite\n",
    "    predictions.sort(key=lambda x: x[1], reverse=True)\n",
    "\n",
    "    # 6. Retourner les top_n films\n",
    "    top_recommendations = [movie_id for movie_id, _ in predictions[:top_n]]\n",
    "    return top_recommendations"
   ]
  },
  {
   "cell_type": "code",
   "execution_count": 6,
   "metadata": {},
   "outputs": [],
   "source": [
    "movies = pd.read_csv('/home/antoine/PROJET_MLOPS_RECO_MOVIES/data/raw/silver/processed_movies.csv')\n",
    "movie_titles = dict(zip(movies[\"movieid\"], movies[\"title\"]))\n",
    "ratings = pd.read_csv('/home/antoine/PROJET_MLOPS_RECO_MOVIES/data/raw/silver/processed_ratings.csv')\n",
    "df = pd.merge(ratings, movies, on=\"movieid\", how=\"left\")"
   ]
  },
  {
   "cell_type": "code",
   "execution_count": 10,
   "metadata": {},
   "outputs": [],
   "source": [
    "recommand_movies = recommend_movies(model, 3, df, 10)"
   ]
  },
  {
   "cell_type": "code",
   "execution_count": 11,
   "metadata": {},
   "outputs": [
    {
     "name": "stdout",
     "output_type": "stream",
     "text": [
      "[114635, 88570, 26109, 78064, 127021, 124273, 5952, 80337, 45691, 44421]\n"
     ]
    }
   ],
   "source": [
    "print(recommand_movies)"
   ]
  },
  {
   "cell_type": "code",
   "execution_count": 12,
   "metadata": {},
   "outputs": [
    {
     "name": "stdout",
     "output_type": "stream",
     "text": [
      "Look of Silence, The\n",
      "Welfare\n",
      "Crooks in Clover (a.k.a. Monsieur Gangster) (Les tontons flingueurs)\n",
      "Ween Live in Chicago\n",
      "Rewind This!\n",
      "Kevin Smith: Too Fat For 40\n",
      "Lord of the Rings: The Two Towers, The\n",
      "Still Bill\n",
      "Edvard Munch\n",
      "Personal Journey with Martin Scorsese Through American Movies, A\n"
     ]
    }
   ],
   "source": [
    "for i in recommand_movies:\n",
    "    print(movie_titles[i])"
   ]
  },
  {
   "cell_type": "code",
   "execution_count": 13,
   "metadata": {},
   "outputs": [
    {
     "ename": "AttributeError",
     "evalue": "'builtin_function_or_method' object has no attribute 'tolist'",
     "output_type": "error",
     "traceback": [
      "\u001b[0;31m---------------------------------------------------------------------------\u001b[0m",
      "\u001b[0;31mAttributeError\u001b[0m                            Traceback (most recent call last)",
      "\u001b[0;32m/tmp/ipykernel_6028/1323962703.py\u001b[0m in \u001b[0;36m<module>\u001b[0;34m\u001b[0m\n\u001b[0;32m----> 1\u001b[0;31m \u001b[0mtitles\u001b[0m \u001b[0;34m=\u001b[0m \u001b[0mrecommand_movies\u001b[0m\u001b[0;34m.\u001b[0m\u001b[0mindex\u001b[0m\u001b[0;34m.\u001b[0m\u001b[0mtolist\u001b[0m\u001b[0;34m(\u001b[0m\u001b[0;34m)\u001b[0m\u001b[0;34m\u001b[0m\u001b[0;34m\u001b[0m\u001b[0m\n\u001b[0m\u001b[1;32m      2\u001b[0m \u001b[0mprint\u001b[0m\u001b[0;34m(\u001b[0m\u001b[0mtitles\u001b[0m\u001b[0;34m)\u001b[0m\u001b[0;34m\u001b[0m\u001b[0;34m\u001b[0m\u001b[0m\n",
      "\u001b[0;31mAttributeError\u001b[0m: 'builtin_function_or_method' object has no attribute 'tolist'"
     ]
    }
   ],
   "source": []
  },
  {
   "cell_type": "code",
   "execution_count": 14,
   "metadata": {},
   "outputs": [
    {
     "name": "stdout",
     "output_type": "stream",
     "text": [
      "['Look of Silence, The', 'Welfare', 'Crooks in Clover (a.k.a. Monsieur Gangster) (Les tontons flingueurs)', 'Ween Live in Chicago', 'Rewind This!', 'Kevin Smith: Too Fat For 40', 'Lord of the Rings: The Two Towers, The', 'Still Bill', 'Edvard Munch', 'Personal Journey with Martin Scorsese Through American Movies, A']\n"
     ]
    }
   ],
   "source": [
    "title = [movie_titles[movied] for movied in recommand_movies]\n",
    "print(title)"
   ]
  },
  {
   "cell_type": "code",
   "execution_count": 6,
   "metadata": {},
   "outputs": [],
   "source": [
    "# Charger le fichier avec scipy.sparse.load_npz\n",
    "from scipy.sparse import load_npz\n",
    "cos_sim = load_npz('/home/antoine/PROJET_MLOPS_RECO_MOVIES/data/models/cosine_similarity_tfidf.npz')\n"
   ]
  },
  {
   "cell_type": "code",
   "execution_count": 8,
   "metadata": {},
   "outputs": [
    {
     "name": "stdout",
     "output_type": "stream",
     "text": [
      "RECOMMNDATION SIMILARITES COSINUS\n"
     ]
    },
    {
     "ename": "IndexError",
     "evalue": "too many indices for array: array is 0-dimensional, but 1 were indexed",
     "output_type": "error",
     "traceback": [
      "\u001b[0;31m---------------------------------------------------------------------------\u001b[0m",
      "\u001b[0;31mIndexError\u001b[0m                            Traceback (most recent call last)",
      "\u001b[0;32m/tmp/ipykernel_84336/3653479148.py\u001b[0m in \u001b[0;36m<module>\u001b[0;34m\u001b[0m\n\u001b[0;32m----> 1\u001b[0;31m \u001b[0mprint\u001b[0m\u001b[0;34m(\u001b[0m\u001b[0;32m'recommandations'\u001b[0m\u001b[0;34m(\u001b[0m\u001b[0;32m'Toy Story'\u001b[0m\u001b[0;34m,\u001b[0m \u001b[0mcos_sim\u001b[0m\u001b[0;34m)\u001b[0m\u001b[0;34m)\u001b[0m\n",
      "\u001b[0;31mIndexError\u001b[0m: too many indices for array: array is 0-dimensional, but 1 were indexed"
     ]
    }
   ],
   "source": [
    "print('RECOMMNDATION SIMILARITES COSINUS')\n",
    "print(recommandations('Toy Story', cos_sim))"
   ]
  },
  {
   "cell_type": "code",
   "execution_count": null,
   "metadata": {},
   "outputs": [],
   "source": []
  }
 ],
 "metadata": {
  "kernelspec": {
   "display_name": "reco_movies",
   "language": "python",
   "name": "python3"
  },
  "language_info": {
   "codemirror_mode": {
    "name": "ipython",
    "version": 3
   },
   "file_extension": ".py",
   "mimetype": "text/x-python",
   "name": "python",
   "nbconvert_exporter": "python",
   "pygments_lexer": "ipython3",
   "version": "3.7.12"
  }
 },
 "nbformat": 4,
 "nbformat_minor": 2
}
