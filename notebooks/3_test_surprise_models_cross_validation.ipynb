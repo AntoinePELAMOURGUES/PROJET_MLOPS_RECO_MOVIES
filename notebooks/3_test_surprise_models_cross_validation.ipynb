{
 "cells": [
  {
   "cell_type": "code",
   "execution_count": 1,
   "metadata": {},
   "outputs": [],
   "source": [
    "import pandas as pd\n",
    "import os\n",
    "import time\n",
    "import pickle\n",
    "from surprise import Reader, Dataset, accuracy, SVD, CoClustering, KNNBasic, NMF\n",
    "from sklearn.preprocessing import LabelEncoder, MultiLabelBinarizer\n",
    "from surprise.model_selection import cross_validate"
   ]
  },
  {
   "cell_type": "code",
   "execution_count": 2,
   "metadata": {},
   "outputs": [],
   "source": [
    "def read_ratings(ratings_csv: str, data_dir: str = \"/home/antoine/Ml_Ops_Movies_Reco/src/data/data/raw\") -> pd.DataFrame:\n",
    "    \"\"\"\n",
    "    Lit le fichier CSV contenant les évaluations des films.\n",
    "\n",
    "    :param ratings_csv: Nom du fichier CSV contenant les évaluations.\n",
    "    :param data_dir: Répertoire où se trouve le fichier CSV.\n",
    "    :return: DataFrame contenant les évaluations.\n",
    "    \"\"\"\n",
    "    data = pd.read_csv(os.path.join(data_dir, ratings_csv))\n",
    "    print(\"Dataset ratings chargé\")\n",
    "    return data\n",
    "\n",
    "def read_movies(movies_csv: str, data_dir: str = \"/home/antoine/Ml_Ops_Movies_Reco/src/data/data/raw\") -> pd.DataFrame:\n",
    "    \"\"\"\n",
    "    Lit le fichier CSV contenant les informations sur les films.\n",
    "\n",
    "    :param movies_csv: Nom du fichier CSV contenant les informations sur les films.\n",
    "    :param data_dir: Répertoire où se trouve le fichier CSV.\n",
    "    :return: DataFrame contenant les informations sur les films.\n",
    "    \"\"\"\n",
    "    df = pd.read_csv(os.path.join(data_dir, movies_csv))\n",
    "    print(\"Dataset movies chargé\")\n",
    "    return df\n",
    "\n",
    "def create_user_matrix(ratings: pd.DataFrame, movies: pd.DataFrame) -> pd.DataFrame:\n",
    "    \"\"\"\n",
    "    Crée une matrice utilisateur à partir des évaluations et des informations sur les films.\n",
    "\n",
    "    :param ratings: DataFrame contenant les évaluations.\n",
    "    :param movies: DataFrame contenant les informations sur les films.\n",
    "    :return: DataFrame fusionné et prétraité.\n",
    "    \"\"\"\n",
    "    user_encoder = LabelEncoder()\n",
    "    movie_encoder = LabelEncoder()\n",
    "    mlb = MultiLabelBinarizer()\n",
    "\n",
    "    # Fusionner les évaluations et les informations sur les films\n",
    "    df = ratings.merge(movies[['movieId', 'genres']], on=\"movieId\", how=\"left\")\n",
    "    df['userId'] = user_encoder.fit_transform(df['userId'])\n",
    "    df['movieId'] = movie_encoder.fit_transform(df['movieId'])\n",
    "\n",
    "    # Traitement des genres\n",
    "    df = df.join(pd.DataFrame(mlb.fit_transform(df.pop('genres').str.split('|')),\n",
    "                               columns=mlb.classes_, index=df.index))\n",
    "    df = df.drop(\"(no genres listed)\", axis=1, errors='ignore')  # Ignore si la colonne n'existe pas\n",
    "\n",
    "    print(\"Dataset fusionnés et prétraités\")\n",
    "    return df\n",
    "\n",
    "def cross_validation_model(df: pd.DataFrame, model):\n",
    "    reader = Reader(rating_scale = (0.5, 5))\n",
    "    data = Dataset.load_from_df(df[[\"userId\", \"movieId\", \"rating\"]], reader)\n",
    "    algo = model\n",
    "    print(\"Début de la cross_validation\")\n",
    "    print(cross_validate(algo, data, cv=5))\n",
    "    return algo"
   ]
  },
  {
   "cell_type": "code",
   "execution_count": null,
   "metadata": {},
   "outputs": [],
   "source": [
    "list_model = ['SVD()',' KNNBasic()', \"NMF()\", \"CoClustering()\"]\n",
    "\n",
    "ratings = read_ratings('ratings.csv')\n",
    "movies = read_movies('movies.csv')\n",
    "df = create_user_matrix(ratings, movies)\n",
    "\n",
    "print(f'Crossvalidation du modèle {list_model[0]}:')\n",
    "cross_validation_model(df, model = SVD())"
   ]
  },
  {
   "cell_type": "markdown",
   "metadata": {},
   "source": [
    "### <ins>Résultat SVD</ins>\n",
    "Crossvalidation du modèle SVD():\n",
    "Début de la cross_validation\n",
    "{'test_rmse': array([0.78572473, 0.78542311, 0.78600234, 0.78597007, 0.78619769]),\n",
    " 'test_mae': array([0.59798303, 0.59756293, 0.59793583, 0.59795825, 0.59826089]),\n",
    " 'fit_time': (211.97577786445618, 220.31366205215454, 213.17003798484802, 221.2444794178009, 216.3312282562256),\n",
    " 'test_time': (44.96142315864563, 76.27327013015747, 74.82933473587036, 50.50605344772339, 75.03782200813293)}"
   ]
  },
  {
   "cell_type": "code",
   "execution_count": 3,
   "metadata": {},
   "outputs": [
    {
     "name": "stdout",
     "output_type": "stream",
     "text": [
      "Dataset ratings chargé\n",
      "Dataset movies chargé\n",
      "Dataset fusionnés et prétraités\n",
      "Crossvalidation du modèle NMF():\n",
      "Début de la cross_validation\n",
      "{'test_rmse': array([0.86585246, 0.86464799, 0.86499039, 0.86405908, 0.86524613]), 'test_mae': array([0.66504488, 0.66372093, 0.66410269, 0.66347938, 0.66442664]), 'fit_time': (381.69296860694885, 439.98664903640747, 390.18845987319946, 435.57128047943115, 387.13279914855957), 'test_time': (61.81817841529846, 57.02377271652222, 49.743833780288696, 57.646498918533325, 55.05344581604004)}\n"
     ]
    },
    {
     "data": {
      "text/plain": [
       "<surprise.prediction_algorithms.matrix_factorization.NMF at 0x7f1d8d6abb30>"
      ]
     },
     "execution_count": 3,
     "metadata": {},
     "output_type": "execute_result"
    }
   ],
   "source": [
    "list_model = ['SVD()',' KNNBasic()', \"NMF()\", \"CoClustering()\"]\n",
    "\n",
    "ratings = read_ratings('ratings.csv')\n",
    "movies = read_movies('movies.csv')\n",
    "df = create_user_matrix(ratings, movies)\n",
    "\n",
    "print(f'Crossvalidation du modèle {list_model[2]}:')\n",
    "cross_validation_model(df, model = NMF())"
   ]
  },
  {
   "cell_type": "code",
   "execution_count": 4,
   "metadata": {},
   "outputs": [
    {
     "name": "stdout",
     "output_type": "stream",
     "text": [
      "Dataset ratings chargé\n",
      "Dataset movies chargé\n",
      "Dataset fusionnés et prétraités\n",
      "Crossvalidation du modèle CoClustering():\n",
      "Début de la cross_validation\n",
      "{'test_rmse': array([0.87667434, 0.8772441 , 0.87681049, 0.87666407, 0.8776344 ]), 'test_mae': array([0.68403182, 0.68407388, 0.6839259 , 0.6837806 , 0.68466208]), 'fit_time': (416.615526676178, 459.13755464553833, 433.0122127532959, 465.32795763015747, 437.93276023864746), 'test_time': (31.03119993209839, 97.64636063575745, 86.65363144874573, 101.46662425994873, 62.9147469997406)}\n"
     ]
    },
    {
     "data": {
      "text/plain": [
       "<surprise.prediction_algorithms.co_clustering.CoClustering at 0x7f1d8db6f650>"
      ]
     },
     "execution_count": 4,
     "metadata": {},
     "output_type": "execute_result"
    }
   ],
   "source": [
    "list_model = ['SVD()',' KNNBasic()', \"NMF()\", \"CoClustering()\"]\n",
    "\n",
    "ratings = read_ratings('ratings.csv')\n",
    "movies = read_movies('movies.csv')\n",
    "df = create_user_matrix(ratings, movies)\n",
    "\n",
    "print(f'Crossvalidation du modèle {list_model[3]}:')\n",
    "cross_validation_model(df, model = CoClustering())"
   ]
  },
  {
   "cell_type": "markdown",
   "metadata": {},
   "source": [
    "### On constate que le modèle le plus efficace (RMSE et MAE la plus basse est le SVD). Nous allons maintenant rechercher les meilleurs paramètres avec GridSearchCV dans le notebook 3\n"
   ]
  },
  {
   "cell_type": "markdown",
   "metadata": {},
   "source": []
  }
 ],
 "metadata": {
  "kernelspec": {
   "display_name": "tensorflow",
   "language": "python",
   "name": "python3"
  },
  "language_info": {
   "codemirror_mode": {
    "name": "ipython",
    "version": 3
   },
   "file_extension": ".py",
   "mimetype": "text/x-python",
   "name": "python",
   "nbconvert_exporter": "python",
   "pygments_lexer": "ipython3",
   "version": "3.12.3"
  }
 },
 "nbformat": 4,
 "nbformat_minor": 2
}
