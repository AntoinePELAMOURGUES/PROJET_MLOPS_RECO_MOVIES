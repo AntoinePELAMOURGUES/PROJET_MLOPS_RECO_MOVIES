{
 "cells": [
  {
   "cell_type": "markdown",
   "metadata": {
    "vscode": {
     "languageId": "plaintext"
    }
   },
   "source": [
    "## <ins>Filtrage collaboratif : approche mémoire</ins>"
   ]
  },
  {
   "cell_type": "markdown",
   "metadata": {},
   "source": [
    "Le filtrage collaboratif est rapidement devenu une des techniques les plus utilisées dans la construction des systèmes de recommandation.\n",
    "\n",
    "Le site Amazon, dont l'activité initiale ne concernait que la vente de livres en ligne, a popularisé cette méthode avec son service \"Les personnes qui ont aimé ce livre ont également aimé ce livre\".\n",
    "\n",
    "Le filtrage collaboratif consiste à fournir des recommandations en exploitant exclusivement les interactions passées dans les utilisateurs et les produits, en regroupant et identifiant des groupes d'utilisateurs ou de produits dont les interactions sont similaires.\n",
    "\n",
    "Plus précisément, le filtrage collaboratif utilise une matrice de notations dont les lignes correspondent aux utilisateurs (users) et les colonnes aux éléments (items). Ainsi, la cellule (u,i) de la matrice correspond soit au score donné par l'utilisateur u au produit i soit à une case vide si l'utilisateur n'a pas eu d'interaction avec le produit.\n",
    "\n",
    "Ce score associé à un utilisateur et à un produit peut être recueilli de deux manières :\n",
    "\n",
    "Explicite : l'utilisateur attribue des notes aux produits testés ou signale explicitement ses préférences (likes/dislikes)\n",
    "Implicite : le score est calculé en fonction des interactions de l'utilisateur avec ce produit (vu, mis dans le panier, acheté, durée sur la page...)\n",
    "Le but du filtrage collaboratif est de prédire le score qu'attribuerait un utilisateur à un produit avec lequel il n'a pas encore testé. Ainsi, plus la prédiction est bonne plus le produit sera pertinent à recommander à l'utilisateur.\n",
    "\n",
    "La technique du filtrage collaboratif peut être mise oeuvre selon deux approches que nous allons explorer : l’approche mémoire et l’approche modèle.\n",
    "\n",
    "Dans ce notebook, nous aborderons seulement l'approche mémoire . L'approche modèle sera vu en détail dans le 3ème notebook."
   ]
  },
  {
   "cell_type": "code",
   "execution_count": 2,
   "metadata": {},
   "outputs": [],
   "source": [
    "import pandas as pd"
   ]
  },
  {
   "cell_type": "code",
   "execution_count": 9,
   "metadata": {},
   "outputs": [
    {
     "data": {
      "text/html": [
       "<div>\n",
       "<style scoped>\n",
       "    .dataframe tbody tr th:only-of-type {\n",
       "        vertical-align: middle;\n",
       "    }\n",
       "\n",
       "    .dataframe tbody tr th {\n",
       "        vertical-align: top;\n",
       "    }\n",
       "\n",
       "    .dataframe thead th {\n",
       "        text-align: right;\n",
       "    }\n",
       "</style>\n",
       "<table border=\"1\" class=\"dataframe\">\n",
       "  <thead>\n",
       "    <tr style=\"text-align: right;\">\n",
       "      <th></th>\n",
       "      <th>userid</th>\n",
       "      <th>movieid</th>\n",
       "      <th>rating</th>\n",
       "      <th>timestamp</th>\n",
       "      <th>bayesian_mean</th>\n",
       "    </tr>\n",
       "  </thead>\n",
       "  <tbody>\n",
       "    <tr>\n",
       "      <th>0</th>\n",
       "      <td>1</td>\n",
       "      <td>2</td>\n",
       "      <td>3.5</td>\n",
       "      <td>1112486027</td>\n",
       "      <td>3.21</td>\n",
       "    </tr>\n",
       "    <tr>\n",
       "      <th>1</th>\n",
       "      <td>1</td>\n",
       "      <td>29</td>\n",
       "      <td>3.5</td>\n",
       "      <td>1112484676</td>\n",
       "      <td>3.89</td>\n",
       "    </tr>\n",
       "    <tr>\n",
       "      <th>2</th>\n",
       "      <td>1</td>\n",
       "      <td>32</td>\n",
       "      <td>3.5</td>\n",
       "      <td>1112484819</td>\n",
       "      <td>3.89</td>\n",
       "    </tr>\n",
       "    <tr>\n",
       "      <th>3</th>\n",
       "      <td>1</td>\n",
       "      <td>47</td>\n",
       "      <td>3.5</td>\n",
       "      <td>1112484727</td>\n",
       "      <td>4.04</td>\n",
       "    </tr>\n",
       "    <tr>\n",
       "      <th>4</th>\n",
       "      <td>1</td>\n",
       "      <td>50</td>\n",
       "      <td>3.5</td>\n",
       "      <td>1112484580</td>\n",
       "      <td>4.32</td>\n",
       "    </tr>\n",
       "  </tbody>\n",
       "</table>\n",
       "</div>"
      ],
      "text/plain": [
       "  userid movieid  rating   timestamp  bayesian_mean\n",
       "0      1       2     3.5  1112486027           3.21\n",
       "1      1      29     3.5  1112484676           3.89\n",
       "2      1      32     3.5  1112484819           3.89\n",
       "3      1      47     3.5  1112484727           4.04\n",
       "4      1      50     3.5  1112484580           4.32"
      ]
     },
     "execution_count": 9,
     "metadata": {},
     "output_type": "execute_result"
    }
   ],
   "source": [
    "ratings = pd.read_csv('/home/antoine/PROJET_MLOPS_RECO_MOVIES/data/raw/silver/processed_ratings.csv')\n",
    "ratings.head()\n",
    "print(ratings.shape)"
   ]
  },
  {
   "cell_type": "code",
   "execution_count": 10,
   "metadata": {},
   "outputs": [
    {
     "name": "stdout",
     "output_type": "stream",
     "text": [
      "<class 'pandas.core.frame.DataFrame'>\n",
      "RangeIndex: 20000263 entries, 0 to 20000262\n",
      "Data columns (total 5 columns):\n",
      " #   Column         Dtype  \n",
      "---  ------         -----  \n",
      " 0   userid         object \n",
      " 1   movieid        object \n",
      " 2   rating         float64\n",
      " 3   timestamp      int64  \n",
      " 4   bayesian_mean  float64\n",
      "dtypes: float64(2), int64(1), object(2)\n",
      "memory usage: 762.9+ MB\n"
     ]
    }
   ],
   "source": [
    "movies = pd.read_csv('/home/antoine/PROJET_MLOPS_RECO_MOVIES/data/raw/silver/processed_movies.csv')\n",
    "\n",
    "movies.head()"
   ]
  },
  {
   "cell_type": "code",
   "execution_count": 11,
   "metadata": {},
   "outputs": [
    {
     "data": {
      "text/html": [
       "<div>\n",
       "<style scoped>\n",
       "    .dataframe tbody tr th:only-of-type {\n",
       "        vertical-align: middle;\n",
       "    }\n",
       "\n",
       "    .dataframe tbody tr th {\n",
       "        vertical-align: top;\n",
       "    }\n",
       "\n",
       "    .dataframe thead th {\n",
       "        text-align: right;\n",
       "    }\n",
       "</style>\n",
       "<table border=\"1\" class=\"dataframe\">\n",
       "  <thead>\n",
       "    <tr style=\"text-align: right;\">\n",
       "      <th></th>\n",
       "      <th>movieid</th>\n",
       "      <th>title</th>\n",
       "      <th>genres</th>\n",
       "      <th>year</th>\n",
       "    </tr>\n",
       "  </thead>\n",
       "  <tbody>\n",
       "    <tr>\n",
       "      <th>0</th>\n",
       "      <td>1</td>\n",
       "      <td>Toy Story</td>\n",
       "      <td>Adventure, Animation, Children, Comedy, Fantasy</td>\n",
       "      <td>1995</td>\n",
       "    </tr>\n",
       "    <tr>\n",
       "      <th>1</th>\n",
       "      <td>2</td>\n",
       "      <td>Jumanji</td>\n",
       "      <td>Adventure, Children, Fantasy</td>\n",
       "      <td>1995</td>\n",
       "    </tr>\n",
       "    <tr>\n",
       "      <th>2</th>\n",
       "      <td>3</td>\n",
       "      <td>Grumpier Old Men</td>\n",
       "      <td>Comedy, Romance</td>\n",
       "      <td>1995</td>\n",
       "    </tr>\n",
       "    <tr>\n",
       "      <th>3</th>\n",
       "      <td>4</td>\n",
       "      <td>Waiting to Exhale</td>\n",
       "      <td>Comedy, Drama, Romance</td>\n",
       "      <td>1995</td>\n",
       "    </tr>\n",
       "    <tr>\n",
       "      <th>4</th>\n",
       "      <td>5</td>\n",
       "      <td>Father of the Bride Part II</td>\n",
       "      <td>Comedy</td>\n",
       "      <td>1995</td>\n",
       "    </tr>\n",
       "  </tbody>\n",
       "</table>\n",
       "</div>"
      ],
      "text/plain": [
       "  movieid                        title  \\\n",
       "0       1                    Toy Story   \n",
       "1       2                      Jumanji   \n",
       "2       3             Grumpier Old Men   \n",
       "3       4            Waiting to Exhale   \n",
       "4       5  Father of the Bride Part II   \n",
       "\n",
       "                                            genres  year  \n",
       "0  Adventure, Animation, Children, Comedy, Fantasy  1995  \n",
       "1                     Adventure, Children, Fantasy  1995  \n",
       "2                                  Comedy, Romance  1995  \n",
       "3                           Comedy, Drama, Romance  1995  \n",
       "4                                           Comedy  1995  "
      ]
     },
     "execution_count": 11,
     "metadata": {},
     "output_type": "execute_result"
    }
   ],
   "source": [
    "df = pd.merge(ratings, movies, on='movieid')\n",
    "df.head()"
   ]
  },
  {
   "cell_type": "markdown",
   "metadata": {},
   "source": [
    "Une fois la jointure fait les variables qui vont nous intéresser sont : userid, title et rating . Finalement, on fera un filtrage pour garder seulement les utilisateurs ayant noté au moins 10 films et les films étant notés au moins 2 fois. Cela nous permet d'avoir un dataset plus facile à manipuler."
   ]
  },
  {
   "cell_type": "code",
   "execution_count": 13,
   "metadata": {},
   "outputs": [
    {
     "data": {
      "text/html": [
       "<div>\n",
       "<style scoped>\n",
       "    .dataframe tbody tr th:only-of-type {\n",
       "        vertical-align: middle;\n",
       "    }\n",
       "\n",
       "    .dataframe tbody tr th {\n",
       "        vertical-align: top;\n",
       "    }\n",
       "\n",
       "    .dataframe thead th {\n",
       "        text-align: right;\n",
       "    }\n",
       "</style>\n",
       "<table border=\"1\" class=\"dataframe\">\n",
       "  <thead>\n",
       "    <tr style=\"text-align: right;\">\n",
       "      <th></th>\n",
       "      <th>userid</th>\n",
       "      <th>movieid</th>\n",
       "      <th>rating</th>\n",
       "      <th>timestamp</th>\n",
       "      <th>bayesian_mean</th>\n",
       "      <th>title</th>\n",
       "      <th>genres</th>\n",
       "      <th>year</th>\n",
       "    </tr>\n",
       "  </thead>\n",
       "  <tbody>\n",
       "    <tr>\n",
       "      <th>0</th>\n",
       "      <td>1</td>\n",
       "      <td>2</td>\n",
       "      <td>3.5</td>\n",
       "      <td>1112486027</td>\n",
       "      <td>3.21</td>\n",
       "      <td>Jumanji</td>\n",
       "      <td>Adventure, Children, Fantasy</td>\n",
       "      <td>1995</td>\n",
       "    </tr>\n",
       "    <tr>\n",
       "      <th>1</th>\n",
       "      <td>5</td>\n",
       "      <td>2</td>\n",
       "      <td>3.0</td>\n",
       "      <td>851527569</td>\n",
       "      <td>3.21</td>\n",
       "      <td>Jumanji</td>\n",
       "      <td>Adventure, Children, Fantasy</td>\n",
       "      <td>1995</td>\n",
       "    </tr>\n",
       "    <tr>\n",
       "      <th>2</th>\n",
       "      <td>13</td>\n",
       "      <td>2</td>\n",
       "      <td>3.0</td>\n",
       "      <td>849082742</td>\n",
       "      <td>3.21</td>\n",
       "      <td>Jumanji</td>\n",
       "      <td>Adventure, Children, Fantasy</td>\n",
       "      <td>1995</td>\n",
       "    </tr>\n",
       "    <tr>\n",
       "      <th>3</th>\n",
       "      <td>29</td>\n",
       "      <td>2</td>\n",
       "      <td>3.0</td>\n",
       "      <td>835562174</td>\n",
       "      <td>3.21</td>\n",
       "      <td>Jumanji</td>\n",
       "      <td>Adventure, Children, Fantasy</td>\n",
       "      <td>1995</td>\n",
       "    </tr>\n",
       "    <tr>\n",
       "      <th>4</th>\n",
       "      <td>34</td>\n",
       "      <td>2</td>\n",
       "      <td>3.0</td>\n",
       "      <td>846509384</td>\n",
       "      <td>3.21</td>\n",
       "      <td>Jumanji</td>\n",
       "      <td>Adventure, Children, Fantasy</td>\n",
       "      <td>1995</td>\n",
       "    </tr>\n",
       "  </tbody>\n",
       "</table>\n",
       "</div>"
      ],
      "text/plain": [
       "  userid movieid  rating   timestamp  bayesian_mean    title  \\\n",
       "0      1       2     3.5  1112486027           3.21  Jumanji   \n",
       "1      5       2     3.0   851527569           3.21  Jumanji   \n",
       "2     13       2     3.0   849082742           3.21  Jumanji   \n",
       "3     29       2     3.0   835562174           3.21  Jumanji   \n",
       "4     34       2     3.0   846509384           3.21  Jumanji   \n",
       "\n",
       "                         genres  year  \n",
       "0  Adventure, Children, Fantasy  1995  \n",
       "1  Adventure, Children, Fantasy  1995  \n",
       "2  Adventure, Children, Fantasy  1995  \n",
       "3  Adventure, Children, Fantasy  1995  \n",
       "4  Adventure, Children, Fantasy  1995  "
      ]
     },
     "execution_count": 13,
     "metadata": {},
     "output_type": "execute_result"
    }
   ],
   "source": [
    "# Filtrer les utilisateurs ayant noté au moins 20 films\n",
    "user_counts = df['userid'].value_counts()\n",
    "users_to_keep = user_counts[user_counts >= 20].index\n",
    "df_filtered_users = df[df['userid'].isin(users_to_keep)]\n",
    "\n",
    "# Filtrer les films ayant été notés au moins 4 fois\n",
    "movie_counts = df_filtered_users['movieid'].value_counts()\n",
    "movies_to_keep = movie_counts[movie_counts >= 4].index\n",
    "df = df_filtered_users[df_filtered_users['movieid'].isin(movies_to_keep)]\n",
    "\n",
    "# Afficher le DataFrame filtré\n",
    "df.head()"
   ]
  },
  {
   "cell_type": "code",
   "execution_count": 6,
   "metadata": {},
   "outputs": [
    {
     "data": {
      "text/plain": [
       "(19988140, 8)"
      ]
     },
     "execution_count": 6,
     "metadata": {},
     "output_type": "execute_result"
    }
   ],
   "source": [
    "df.shape"
   ]
  },
  {
   "cell_type": "markdown",
   "metadata": {},
   "source": [
    "### <ins>User-based filtering</ins>\n"
   ]
  },
  {
   "cell_type": "markdown",
   "metadata": {},
   "source": [
    "L'approche mémoire se base sur la corrélation entre les comportements \"passés\" des utilisateurs\n",
    "\n",
    "Pour cela, elle se base sur sur une matrice de notations où les lignes représentent les utilisateurs et les colonnes représentent le contenu, ici les films.\n",
    "\n",
    "Ainsi, la cellule (u,i) de la matrice de notations correspond alors à la note donnée par l'utilisateur u au contenu i.\n",
    "\n",
    "Ces interactions peuvent être analysées de deux manières :\n",
    "\n",
    "* Soit l'analyse est basée sur les utilisateurs, (user-based filtering)\n",
    "* Soit l'analyse est basée sur les produits, (item-based filtering)\n",
    "\n",
    "Illustrons ces deux approches :\n",
    "\n"
   ]
  },
  {
   "cell_type": "markdown",
   "metadata": {},
   "source": [
    "Cette approche repose sur l'idée qu'un utilisateur est susceptible d'avoir les mêmes préférences qu'un utilisateur ayant le même comportement de notation que lui"
   ]
  },
  {
   "cell_type": "markdown",
   "metadata": {},
   "source": [
    "### <ins>Item-based filtering</ins>"
   ]
  },
  {
   "cell_type": "markdown",
   "metadata": {},
   "source": [
    "Cette approche se base cette fois sur l'idée que deux films qui ont reçu les mêmes notes par un même utilisateur sont susceptible d'être similaires."
   ]
  },
  {
   "cell_type": "markdown",
   "metadata": {},
   "source": [
    "#### Création de la matrice de notations"
   ]
  },
  {
   "cell_type": "markdown",
   "metadata": {},
   "source": [
    "Nous allons construire la matrice de notations où chaque ligne représente les notes données par un utilisateur et chaque colonne les notes attribuées à un contenu.\n",
    "\n",
    "Ainsi, la cellule (u,i) de la matrice modèle correspond alors à la note donnée par l'utilisateur u au contenu i."
   ]
  },
  {
   "cell_type": "code",
   "execution_count": 21,
   "metadata": {},
   "outputs": [],
   "source": [
    "n_users = df['userid'].nunique()\n",
    "\n",
    "n_books = df['title'].nunique()\n",
    "print(\"Nombre d'utilisateurs : \", n_users, end=\"\\n\\n\")\n",
    "print(\"Nombre de livres : \", n_books)"
   ]
  },
  {
   "cell_type": "code",
   "execution_count": 22,
   "metadata": {},
   "outputs": [],
   "source": [
    "n_users = df['userid'].nunique()\n",
    "\n",
    "n_books = df['title'].nunique()\n",
    "print(\"Nombre d'utilisateurs : \", n_users, end=\"\\n\\n\")\n",
    "print(\"Nombre de livres : \", n_books)"
   ]
  },
  {
   "cell_type": "code",
   "execution_count": 23,
   "metadata": {},
   "outputs": [
    {
     "ename": "",
     "evalue": "",
     "output_type": "error",
     "traceback": [
      "\u001b[1;31mLe noyau s’est bloqué lors de l’exécution du code dans une cellule active ou une cellule précédente. \n",
      "\u001b[1;31mVeuillez vérifier le code dans la ou les cellules pour identifier une cause possible de l’échec. \n",
      "\u001b[1;31mCliquez <a href='https://aka.ms/vscodeJupyterKernelCrash'>ici</a> pour plus d’informations. \n",
      "\u001b[1;31mPour plus d’informations, consultez Jupyter <a href='command:jupyter.viewOutput'>log</a>."
     ]
    }
   ],
   "source": [
    "df.info()"
   ]
  },
  {
   "cell_type": "code",
   "execution_count": 18,
   "metadata": {},
   "outputs": [
    {
     "data": {
      "text/html": [
       "<div>\n",
       "<style scoped>\n",
       "    .dataframe tbody tr th:only-of-type {\n",
       "        vertical-align: middle;\n",
       "    }\n",
       "\n",
       "    .dataframe tbody tr th {\n",
       "        vertical-align: top;\n",
       "    }\n",
       "\n",
       "    .dataframe thead th {\n",
       "        text-align: right;\n",
       "    }\n",
       "</style>\n",
       "<table border=\"1\" class=\"dataframe\">\n",
       "  <thead>\n",
       "    <tr style=\"text-align: right;\">\n",
       "      <th>title</th>\n",
       "      <th>\"Great Performances\" Cats</th>\n",
       "      <th>$ (Dollars)</th>\n",
       "      <th>$9.99</th>\n",
       "      <th>'71</th>\n",
       "      <th>'Round Midnight</th>\n",
       "      <th>'Salem's Lot</th>\n",
       "      <th>'Til There Was You</th>\n",
       "      <th>'burbs, The</th>\n",
       "      <th>'night Mother</th>\n",
       "      <th>(500) Days of Summer</th>\n",
       "      <th>...</th>\n",
       "      <th>Zozo</th>\n",
       "      <th>Zulu</th>\n",
       "      <th>[REC]</th>\n",
       "      <th>[REC]²</th>\n",
       "      <th>eXistenZ</th>\n",
       "      <th>loudQUIETloud: A Film About the Pixies</th>\n",
       "      <th>xXx</th>\n",
       "      <th>xXx: State of the Union</th>\n",
       "      <th>¡Three Amigos!</th>\n",
       "      <th>À nous la liberté (Freedom for Us)</th>\n",
       "    </tr>\n",
       "    <tr>\n",
       "      <th>userid</th>\n",
       "      <th></th>\n",
       "      <th></th>\n",
       "      <th></th>\n",
       "      <th></th>\n",
       "      <th></th>\n",
       "      <th></th>\n",
       "      <th></th>\n",
       "      <th></th>\n",
       "      <th></th>\n",
       "      <th></th>\n",
       "      <th></th>\n",
       "      <th></th>\n",
       "      <th></th>\n",
       "      <th></th>\n",
       "      <th></th>\n",
       "      <th></th>\n",
       "      <th></th>\n",
       "      <th></th>\n",
       "      <th></th>\n",
       "      <th></th>\n",
       "      <th></th>\n",
       "    </tr>\n",
       "  </thead>\n",
       "  <tbody>\n",
       "    <tr>\n",
       "      <th>1</th>\n",
       "      <td>NaN</td>\n",
       "      <td>NaN</td>\n",
       "      <td>NaN</td>\n",
       "      <td>NaN</td>\n",
       "      <td>NaN</td>\n",
       "      <td>NaN</td>\n",
       "      <td>NaN</td>\n",
       "      <td>NaN</td>\n",
       "      <td>NaN</td>\n",
       "      <td>NaN</td>\n",
       "      <td>...</td>\n",
       "      <td>NaN</td>\n",
       "      <td>NaN</td>\n",
       "      <td>NaN</td>\n",
       "      <td>NaN</td>\n",
       "      <td>NaN</td>\n",
       "      <td>NaN</td>\n",
       "      <td>NaN</td>\n",
       "      <td>NaN</td>\n",
       "      <td>NaN</td>\n",
       "      <td>NaN</td>\n",
       "    </tr>\n",
       "    <tr>\n",
       "      <th>2</th>\n",
       "      <td>NaN</td>\n",
       "      <td>NaN</td>\n",
       "      <td>NaN</td>\n",
       "      <td>NaN</td>\n",
       "      <td>NaN</td>\n",
       "      <td>NaN</td>\n",
       "      <td>NaN</td>\n",
       "      <td>NaN</td>\n",
       "      <td>NaN</td>\n",
       "      <td>NaN</td>\n",
       "      <td>...</td>\n",
       "      <td>NaN</td>\n",
       "      <td>NaN</td>\n",
       "      <td>NaN</td>\n",
       "      <td>NaN</td>\n",
       "      <td>NaN</td>\n",
       "      <td>NaN</td>\n",
       "      <td>NaN</td>\n",
       "      <td>NaN</td>\n",
       "      <td>NaN</td>\n",
       "      <td>NaN</td>\n",
       "    </tr>\n",
       "    <tr>\n",
       "      <th>3</th>\n",
       "      <td>NaN</td>\n",
       "      <td>NaN</td>\n",
       "      <td>NaN</td>\n",
       "      <td>NaN</td>\n",
       "      <td>NaN</td>\n",
       "      <td>NaN</td>\n",
       "      <td>NaN</td>\n",
       "      <td>NaN</td>\n",
       "      <td>NaN</td>\n",
       "      <td>NaN</td>\n",
       "      <td>...</td>\n",
       "      <td>NaN</td>\n",
       "      <td>NaN</td>\n",
       "      <td>NaN</td>\n",
       "      <td>NaN</td>\n",
       "      <td>NaN</td>\n",
       "      <td>NaN</td>\n",
       "      <td>NaN</td>\n",
       "      <td>NaN</td>\n",
       "      <td>NaN</td>\n",
       "      <td>NaN</td>\n",
       "    </tr>\n",
       "    <tr>\n",
       "      <th>4</th>\n",
       "      <td>NaN</td>\n",
       "      <td>NaN</td>\n",
       "      <td>NaN</td>\n",
       "      <td>NaN</td>\n",
       "      <td>NaN</td>\n",
       "      <td>NaN</td>\n",
       "      <td>NaN</td>\n",
       "      <td>NaN</td>\n",
       "      <td>NaN</td>\n",
       "      <td>NaN</td>\n",
       "      <td>...</td>\n",
       "      <td>NaN</td>\n",
       "      <td>NaN</td>\n",
       "      <td>NaN</td>\n",
       "      <td>NaN</td>\n",
       "      <td>NaN</td>\n",
       "      <td>NaN</td>\n",
       "      <td>NaN</td>\n",
       "      <td>NaN</td>\n",
       "      <td>NaN</td>\n",
       "      <td>NaN</td>\n",
       "    </tr>\n",
       "    <tr>\n",
       "      <th>7</th>\n",
       "      <td>NaN</td>\n",
       "      <td>NaN</td>\n",
       "      <td>NaN</td>\n",
       "      <td>NaN</td>\n",
       "      <td>NaN</td>\n",
       "      <td>NaN</td>\n",
       "      <td>NaN</td>\n",
       "      <td>NaN</td>\n",
       "      <td>NaN</td>\n",
       "      <td>NaN</td>\n",
       "      <td>...</td>\n",
       "      <td>NaN</td>\n",
       "      <td>NaN</td>\n",
       "      <td>NaN</td>\n",
       "      <td>NaN</td>\n",
       "      <td>NaN</td>\n",
       "      <td>NaN</td>\n",
       "      <td>NaN</td>\n",
       "      <td>NaN</td>\n",
       "      <td>NaN</td>\n",
       "      <td>NaN</td>\n",
       "    </tr>\n",
       "  </tbody>\n",
       "</table>\n",
       "<p>5 rows × 11565 columns</p>\n",
       "</div>"
      ],
      "text/plain": [
       "title   \"Great Performances\" Cats  $ (Dollars)  $9.99  '71  'Round Midnight  \\\n",
       "userid                                                                        \n",
       "1                             NaN          NaN    NaN  NaN              NaN   \n",
       "2                             NaN          NaN    NaN  NaN              NaN   \n",
       "3                             NaN          NaN    NaN  NaN              NaN   \n",
       "4                             NaN          NaN    NaN  NaN              NaN   \n",
       "7                             NaN          NaN    NaN  NaN              NaN   \n",
       "\n",
       "title   'Salem's Lot  'Til There Was You  'burbs, The  'night Mother  \\\n",
       "userid                                                                 \n",
       "1                NaN                 NaN          NaN            NaN   \n",
       "2                NaN                 NaN          NaN            NaN   \n",
       "3                NaN                 NaN          NaN            NaN   \n",
       "4                NaN                 NaN          NaN            NaN   \n",
       "7                NaN                 NaN          NaN            NaN   \n",
       "\n",
       "title   (500) Days of Summer  ...  Zozo  Zulu  [REC]  [REC]²  eXistenZ  \\\n",
       "userid                        ...                                        \n",
       "1                        NaN  ...   NaN   NaN    NaN     NaN       NaN   \n",
       "2                        NaN  ...   NaN   NaN    NaN     NaN       NaN   \n",
       "3                        NaN  ...   NaN   NaN    NaN     NaN       NaN   \n",
       "4                        NaN  ...   NaN   NaN    NaN     NaN       NaN   \n",
       "7                        NaN  ...   NaN   NaN    NaN     NaN       NaN   \n",
       "\n",
       "title   loudQUIETloud: A Film About the Pixies  xXx  xXx: State of the Union  \\\n",
       "userid                                                                         \n",
       "1                                          NaN  NaN                      NaN   \n",
       "2                                          NaN  NaN                      NaN   \n",
       "3                                          NaN  NaN                      NaN   \n",
       "4                                          NaN  NaN                      NaN   \n",
       "7                                          NaN  NaN                      NaN   \n",
       "\n",
       "title   ¡Three Amigos!  À nous la liberté (Freedom for Us)  \n",
       "userid                                                      \n",
       "1                  NaN                                 NaN  \n",
       "2                  NaN                                 NaN  \n",
       "3                  NaN                                 NaN  \n",
       "4                  NaN                                 NaN  \n",
       "7                  NaN                                 NaN  \n",
       "\n",
       "[5 rows x 11565 columns]"
      ]
     },
     "execution_count": 18,
     "metadata": {},
     "output_type": "execute_result"
    }
   ],
   "source": [
    "df = df.astype({'userid': 'int32', 'rating': 'int32', 'movieid': 'int32'})\n",
    "\n",
    "df = df.sample(frac=0.15, random_state=42).reset_index(drop=True)"
   ]
  },
  {
   "cell_type": "code",
   "execution_count": 29,
   "metadata": {},
   "outputs": [],
   "source": [
    "mat_ratings = mat_ratings +1"
   ]
  },
  {
   "cell_type": "markdown",
   "metadata": {},
   "source": [
    "Dans les prochaines étapes, notre objectif est de substituer les valeurs manquantes dans cette matrice par des zéros. Cependant, il est essentiel de ne pas fausser notre système de notation, qui commence également à partir de 0.\n",
    "Nous augmentons ainsi nos notes de 1"
   ]
  },
  {
   "cell_type": "code",
   "execution_count": null,
   "metadata": {},
   "outputs": [],
   "source": [
    "mat_ratings = mat_ratings +1"
   ]
  },
  {
   "cell_type": "markdown",
   "metadata": {},
   "source": []
  }
 ],
 "metadata": {
  "kernelspec": {
   "display_name": "reco_movies",
   "language": "python",
   "name": "python3"
  },
  "language_info": {
   "codemirror_mode": {
    "name": "ipython",
    "version": 3
   },
   "file_extension": ".py",
   "mimetype": "text/x-python",
   "name": "python",
   "nbconvert_exporter": "python",
   "pygments_lexer": "ipython3",
   "version": "3.7.12"
  }
 },
 "nbformat": 4,
 "nbformat_minor": 2
}
