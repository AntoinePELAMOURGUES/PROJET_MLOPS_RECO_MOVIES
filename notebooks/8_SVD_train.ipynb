{
 "cells": [
  {
   "cell_type": "code",
   "execution_count": 1,
   "metadata": {},
   "outputs": [],
   "source": [
    "from surprise import Dataset, Reader\n",
    "from surprise.prediction_algorithms.matrix_factorization import SVD\n",
    "from surprise import accuracy\n",
    "import pandas as pd\n",
    "from surprise.model_selection import cross_validate\n",
    "import os\n",
    "import pickle"
   ]
  },
  {
   "cell_type": "code",
   "execution_count": 2,
   "metadata": {},
   "outputs": [],
   "source": [
    "def read_ratings(ratings_csv: str, data_dir: str = \"/home/antoine/Ml_Ops_Movies_Reco/data/raw\") -> pd.DataFrame:\n",
    "    \"\"\"\n",
    "    Lit le fichier CSV contenant les évaluations des films.\n",
    "\n",
    "    :param ratings_csv: Nom du fichier CSV contenant les évaluations.\n",
    "    :param data_dir: Répertoire où se trouve le fichier CSV.\n",
    "    :return: DataFrame contenant les évaluations.\n",
    "    \"\"\"\n",
    "    df = pd.read_csv(os.path.join(data_dir, ratings_csv))\n",
    "    print(\"Dataset ratings chargé\")\n",
    "    return df\n",
    "\n",
    "\n",
    "\n",
    "def train_model(df: pd.DataFrame) -> SVD:\n",
    "    \"\"\"Entraîne le modèle de recommandation sur les données fournies.\"\"\"\n",
    "    # Diviser les données en ensembles d'entraînement et de test\n",
    "    reader = Reader(rating_scale=(0.5, 5))\n",
    "\n",
    "    data = Dataset.load_from_df(df[['userId', 'movieId', 'rating']], reader=reader)\n",
    "\n",
    "    # Extraire le Trainset\n",
    "    trainset = data.build_full_trainset()\n",
    "\n",
    "    model = SVD(n_factors=150, n_epochs=30, lr_all=0.01, reg_all=0.05)\n",
    "\n",
    "    # Entraîner le modèle\n",
    "    model.fit(trainset)\n",
    "\n",
    "    print(\"Début de la cross-validation\")\n",
    "\n",
    "    # Effectuer la validation croisée sur le Trainset\n",
    "    cv_results = cross_validate(model, data, measures=['RMSE', 'MAE'], cv=5, return_train_measures=True)\n",
    "\n",
    "    # Afficher les résultats\n",
    "    mean_rmse = cv_results['test_rmse'].mean()\n",
    "    print(\"Moyenne des RMSE :\", mean_rmse)\n",
    "\n",
    "    return model, mean_rmse\n",
    "\n",
    "def save_model(model: SVD, filepath: str, version: str) -> None:\n",
    "    \"\"\"Sauvegarde le modèle entraîné dans un fichier.\"\"\"\n",
    "    os.makedirs(os.path.dirname(filepath), exist_ok=True)\n",
    "\n",
    "    # Modifier le nom du fichier pour inclure la version\n",
    "    base, ext = os.path.splitext(filepath)\n",
    "    versioned_filepath = f\"{base}_{version}{ext}\"\n",
    "\n",
    "    with open(versioned_filepath, 'wb') as file:\n",
    "        pickle.dump(model, file)\n",
    "        print(f'Modèle sauvegardé sous {versioned_filepath}')\n",
    "\n",
    "def save_best_score(score: float, filepath: str) -> None:\n",
    "    \"\"\"Sauvegarde le meilleur score dans un fichier.\"\"\"\n",
    "    with open(filepath, 'w') as file:\n",
    "        file.write(str(score))\n",
    "\n",
    "def load_best_score(filepath: str) -> float:\n",
    "    \"\"\"Charge le meilleur score à partir d'un fichier.\"\"\"\n",
    "    if not os.path.exists(filepath):\n",
    "        return float('inf')  # Valeur par défaut très haute pour que n'importe quel score soit meilleur\n",
    "    with open(filepath, 'r') as file:\n",
    "        return float(file.read().strip())\n",
    "\n",
    "def read_version(filepath: str) -> int:\n",
    "    \"\"\"Lit la version actuelle à partir d'un fichier.\"\"\"\n",
    "    if not os.path.exists(filepath):\n",
    "        return 0  # Valeur par défaut si le fichier n'existe pas\n",
    "    with open(filepath, 'r') as file:\n",
    "        return int(file.read().strip())\n",
    "\n",
    "def write_version(filepath: str, version: int) -> None:\n",
    "    \"\"\"Écrit la nouvelle version dans un fichier.\"\"\"\n",
    "    with open(filepath, 'w') as file:\n",
    "        file.write(str(version))\n"
   ]
  },
  {
   "cell_type": "code",
   "execution_count": 3,
   "metadata": {},
   "outputs": [
    {
     "name": "stdout",
     "output_type": "stream",
     "text": [
      "Dataset ratings chargé\n"
     ]
    },
    {
     "data": {
      "text/html": [
       "<div>\n",
       "<style scoped>\n",
       "    .dataframe tbody tr th:only-of-type {\n",
       "        vertical-align: middle;\n",
       "    }\n",
       "\n",
       "    .dataframe tbody tr th {\n",
       "        vertical-align: top;\n",
       "    }\n",
       "\n",
       "    .dataframe thead th {\n",
       "        text-align: right;\n",
       "    }\n",
       "</style>\n",
       "<table border=\"1\" class=\"dataframe\">\n",
       "  <thead>\n",
       "    <tr style=\"text-align: right;\">\n",
       "      <th></th>\n",
       "      <th>userId</th>\n",
       "      <th>movieId</th>\n",
       "      <th>rating</th>\n",
       "      <th>timestamp</th>\n",
       "    </tr>\n",
       "  </thead>\n",
       "  <tbody>\n",
       "    <tr>\n",
       "      <th>0</th>\n",
       "      <td>1</td>\n",
       "      <td>2</td>\n",
       "      <td>3.5</td>\n",
       "      <td>1112486027</td>\n",
       "    </tr>\n",
       "    <tr>\n",
       "      <th>1</th>\n",
       "      <td>1</td>\n",
       "      <td>29</td>\n",
       "      <td>3.5</td>\n",
       "      <td>1112484676</td>\n",
       "    </tr>\n",
       "    <tr>\n",
       "      <th>2</th>\n",
       "      <td>1</td>\n",
       "      <td>32</td>\n",
       "      <td>3.5</td>\n",
       "      <td>1112484819</td>\n",
       "    </tr>\n",
       "    <tr>\n",
       "      <th>3</th>\n",
       "      <td>1</td>\n",
       "      <td>47</td>\n",
       "      <td>3.5</td>\n",
       "      <td>1112484727</td>\n",
       "    </tr>\n",
       "    <tr>\n",
       "      <th>4</th>\n",
       "      <td>1</td>\n",
       "      <td>50</td>\n",
       "      <td>3.5</td>\n",
       "      <td>1112484580</td>\n",
       "    </tr>\n",
       "  </tbody>\n",
       "</table>\n",
       "</div>"
      ],
      "text/plain": [
       "   userId  movieId  rating   timestamp\n",
       "0       1        2     3.5  1112486027\n",
       "1       1       29     3.5  1112484676\n",
       "2       1       32     3.5  1112484819\n",
       "3       1       47     3.5  1112484727\n",
       "4       1       50     3.5  1112484580"
      ]
     },
     "execution_count": 3,
     "metadata": {},
     "output_type": "execute_result"
    }
   ],
   "source": [
    "ratings = read_ratings('ratings.csv')\n",
    "\n",
    "ratings.head()"
   ]
  },
  {
   "cell_type": "code",
   "execution_count": null,
   "metadata": {},
   "outputs": [
    {
     "name": "stdout",
     "output_type": "stream",
     "text": [
      "Début de la cross-validation\n"
     ]
    }
   ],
   "source": [
    "svd, mean_rmse = train_model(ratings)"
   ]
  },
  {
   "cell_type": "code",
   "execution_count": null,
   "metadata": {},
   "outputs": [],
   "source": []
  }
 ],
 "metadata": {
  "kernelspec": {
   "display_name": "tensorflow",
   "language": "python",
   "name": "python3"
  },
  "language_info": {
   "codemirror_mode": {
    "name": "ipython",
    "version": 3
   },
   "file_extension": ".py",
   "mimetype": "text/x-python",
   "name": "python",
   "nbconvert_exporter": "python",
   "pygments_lexer": "ipython3",
   "version": "3.12.3"
  }
 },
 "nbformat": 4,
 "nbformat_minor": 2
}
