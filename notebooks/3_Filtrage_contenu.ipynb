{
 "cells": [
  {
   "cell_type": "markdown",
   "metadata": {},
   "source": [
    "\n",
    "## <ins>Filtrage basé sur le contenu</ins>"
   ]
  },
  {
   "cell_type": "markdown",
   "metadata": {},
   "source": [
    "Dans le filtrage basé sur le contenu on utilise l'information qu'on connaît sur les intérêts des utilisateurs comme liaison pour les recommandations potentielles.\n",
    "\n",
    "Supposons qu'on demande à Alice le type de livres qu'elle aime afin de savoir si elle serait intéressée par Le Hobbit. Avec ces informations, on commence par labeliser les utilisateurs (users) ainsi que les produits (items, dans ce cas les livres) par des variables connues, par exemple aventure et romance.\n",
    "\n",
    "Si Alice n'aime pas l'aventure mais elle aime la romance, on peut représenter ses préférences commme le vecteur  (0,4),en supposant une notation entre  0−5."
   ]
  },
  {
   "cell_type": "code",
   "execution_count": 1,
   "metadata": {},
   "outputs": [],
   "source": [
    "import pandas as pd"
   ]
  },
  {
   "cell_type": "code",
   "execution_count": 2,
   "metadata": {},
   "outputs": [
    {
     "data": {
      "text/html": [
       "<div>\n",
       "<style scoped>\n",
       "    .dataframe tbody tr th:only-of-type {\n",
       "        vertical-align: middle;\n",
       "    }\n",
       "\n",
       "    .dataframe tbody tr th {\n",
       "        vertical-align: top;\n",
       "    }\n",
       "\n",
       "    .dataframe thead th {\n",
       "        text-align: right;\n",
       "    }\n",
       "</style>\n",
       "<table border=\"1\" class=\"dataframe\">\n",
       "  <thead>\n",
       "    <tr style=\"text-align: right;\">\n",
       "      <th></th>\n",
       "      <th>movieid</th>\n",
       "      <th>title</th>\n",
       "      <th>genres</th>\n",
       "      <th>year</th>\n",
       "    </tr>\n",
       "  </thead>\n",
       "  <tbody>\n",
       "    <tr>\n",
       "      <th>0</th>\n",
       "      <td>1</td>\n",
       "      <td>Toy Story</td>\n",
       "      <td>Adventure, Animation, Children, Comedy, Fantasy</td>\n",
       "      <td>1995</td>\n",
       "    </tr>\n",
       "    <tr>\n",
       "      <th>1</th>\n",
       "      <td>2</td>\n",
       "      <td>Jumanji</td>\n",
       "      <td>Adventure, Children, Fantasy</td>\n",
       "      <td>1995</td>\n",
       "    </tr>\n",
       "    <tr>\n",
       "      <th>2</th>\n",
       "      <td>3</td>\n",
       "      <td>Grumpier Old Men</td>\n",
       "      <td>Comedy, Romance</td>\n",
       "      <td>1995</td>\n",
       "    </tr>\n",
       "    <tr>\n",
       "      <th>3</th>\n",
       "      <td>4</td>\n",
       "      <td>Waiting to Exhale</td>\n",
       "      <td>Comedy, Drama, Romance</td>\n",
       "      <td>1995</td>\n",
       "    </tr>\n",
       "    <tr>\n",
       "      <th>4</th>\n",
       "      <td>5</td>\n",
       "      <td>Father of the Bride Part II</td>\n",
       "      <td>Comedy</td>\n",
       "      <td>1995</td>\n",
       "    </tr>\n",
       "  </tbody>\n",
       "</table>\n",
       "</div>"
      ],
      "text/plain": [
       "   movieid                        title  \\\n",
       "0        1                    Toy Story   \n",
       "1        2                      Jumanji   \n",
       "2        3             Grumpier Old Men   \n",
       "3        4            Waiting to Exhale   \n",
       "4        5  Father of the Bride Part II   \n",
       "\n",
       "                                            genres  year  \n",
       "0  Adventure, Animation, Children, Comedy, Fantasy  1995  \n",
       "1                     Adventure, Children, Fantasy  1995  \n",
       "2                                  Comedy, Romance  1995  \n",
       "3                           Comedy, Drama, Romance  1995  \n",
       "4                                           Comedy  1995  "
      ]
     },
     "execution_count": 2,
     "metadata": {},
     "output_type": "execute_result"
    }
   ],
   "source": [
    "movies = pd.read_csv('/home/antoine/PROJET_MLOPS_RECO_MOVIES/data/raw/silver/processed_movies.csv')\n",
    "\n",
    "movies.head()"
   ]
  },
  {
   "cell_type": "markdown",
   "metadata": {},
   "source": [
    "Pour notre système de recommandation on utilisera la colonne 'genres' pour trouver ces mots et ainsi repérer les livres qui portent sur des sujets similaires.\n",
    "\n",
    "Pour ce faire, on passera par la tokenization et vectorisation. Pour l’instant, tout ce qu'il faut savoir c’est que ce sont des processus fondamentaux en traitement du langage naturel (TLN) qui consistent à convertir les données textuelles en un format compréhensible et exploitable par les modèles d'apprentissage automatique.\n",
    "\n",
    "La tokenization est le processus qui consiste à diviser un texte en unités individuelles (mots ou des sous-mots) appelées des \"tokens\".\n",
    "\n",
    "La vectorisation consiste à représenter chaque \"token\" sous une forme numérique , généralement sous forme d'un vecteur de nombres. Ceci est nécessaire car la plupart des modèles d'apprentissage automatique requièrent une entrée numérique."
   ]
  },
  {
   "cell_type": "code",
   "execution_count": 3,
   "metadata": {},
   "outputs": [
    {
     "name": "stdout",
     "output_type": "stream",
     "text": [
      "(27278, 24)\n"
     ]
    }
   ],
   "source": [
    "from sklearn.feature_extraction.text import TfidfVectorizer\n",
    "\n",
    "# Créer un TfidfVectorizer et supprimer les mots vides\n",
    "tfidf = TfidfVectorizer()\n",
    "# Adapter et transformer les données en une matrice tfidf\n",
    "matrice_tfidf = tfidf.fit_transform(movies['genres'])\n",
    "# Afficher la forme de la matrice tfidf\n",
    "print(matrice_tfidf.shape)"
   ]
  },
  {
   "cell_type": "markdown",
   "metadata": {},
   "source": [
    "Le nombre de lignes (27278) correspond au nombre de films dans notre DataFrame. Quant au nombre de colonnes (24), ceci correspond au nombre de mots importants.\n",
    "\n",
    "Ensuite on va calculer la similarité entre chaque livre.\n",
    "\n",
    "Les fonctions cosine_similarity et euclidean_distances de la bibliothèque sklearn.metrics.pairwise font le calcul de la similarité cosinus et distance euclidienne, respectivement."
   ]
  },
  {
   "cell_type": "code",
   "execution_count": 4,
   "metadata": {},
   "outputs": [],
   "source": [
    "from sklearn.metrics.pairwise import cosine_similarity, euclidean_distances\n",
    "\n",
    "sim_euclidienne = 1 / (1 +euclidean_distances(matrice_tfidf))\n",
    "sim_cosinus = cosine_similarity(matrice_tfidf, matrice_tfidf)"
   ]
  },
  {
   "cell_type": "code",
   "execution_count": 5,
   "metadata": {},
   "outputs": [],
   "source": [
    "indices = pd.Series(range(0,len(movies)), index=movies['title'])"
   ]
  },
  {
   "cell_type": "code",
   "execution_count": 7,
   "metadata": {},
   "outputs": [],
   "source": [
    "from tabulate import tabulate\n",
    "\n",
    "def recommandations(titre, mat_sim, num_recommandations=10):\n",
    "    \"\"\"Fonction qui  à partir des indices trouvés, renvoye les titres des films les plus similaires.\"\"\"\n",
    "    # récupérer dans idx l'indice associé au titre depuis la série indices\n",
    "    idx = indices[titre]\n",
    "    # garder dans une liste les scores de similarité correspondants à l'index du film cible\n",
    "    score_sim = list(enumerate(mat_sim[idx]))\n",
    "    #  trier les scores de similarité, trouver les plus similaires et récupérer ses indices\n",
    "    score_sim = sorted(score_sim, key=lambda x: x[1], reverse=True)\n",
    "    # Obtenir les scores des 10 films les plus similaires\n",
    "    top_similair = score_sim[1:num_recommandations+1]\n",
    "    # Obtenir les indices des films\n",
    "    res = [(indices.index[idx], score) for idx, score in top_similair]\n",
    "    # Renvoyer les titres des films les plus similaires\n",
    "    return tabulate(res, headers=[\"Titre\", \"Score de similarité\"], tablefmt=\"pretty\")\n"
   ]
  },
  {
   "cell_type": "code",
   "execution_count": 8,
   "metadata": {},
   "outputs": [
    {
     "name": "stdout",
     "output_type": "stream",
     "text": [
      "RECOMMNDATION SIMILARITES EUCLIDIENNE\n",
      "+--------------------------------------------------+---------------------+\n",
      "|                      Titre                       | Score de similarité |\n",
      "+--------------------------------------------------+---------------------+\n",
      "|                       Antz                       |         1.0         |\n",
      "|                   Toy Story 2                    |         1.0         |\n",
      "|     Adventures of Rocky and Bullwinkle, The      |         1.0         |\n",
      "|            Emperor's New Groove, The             |         1.0         |\n",
      "|                  Monsters, Inc.                  |         1.0         |\n",
      "| DuckTales: The Movie - Treasure of the Lost Lamp |         1.0         |\n",
      "|                    Wild, The                     |         1.0         |\n",
      "|                 Shrek the Third                  |         1.0         |\n",
      "|             Tale of Despereaux, The              |         1.0         |\n",
      "| Asterix and the Vikings (Astérix et les Vikings) |         1.0         |\n",
      "+--------------------------------------------------+---------------------+\n",
      "RECOMMNDATION SIMILARITES COSINUS\n",
      "+--------------------------------------------------+---------------------+\n",
      "|                      Titre                       | Score de similarité |\n",
      "+--------------------------------------------------+---------------------+\n",
      "|                       Antz                       |         1.0         |\n",
      "|                   Toy Story 2                    |         1.0         |\n",
      "|     Adventures of Rocky and Bullwinkle, The      |         1.0         |\n",
      "|            Emperor's New Groove, The             |         1.0         |\n",
      "|                  Monsters, Inc.                  |         1.0         |\n",
      "| DuckTales: The Movie - Treasure of the Lost Lamp |         1.0         |\n",
      "|                    Wild, The                     |         1.0         |\n",
      "|                 Shrek the Third                  |         1.0         |\n",
      "|             Tale of Despereaux, The              |         1.0         |\n",
      "| Asterix and the Vikings (Astérix et les Vikings) |         1.0         |\n",
      "+--------------------------------------------------+---------------------+\n",
      "RECOMMNDATION SIMILARITES EUCLIDIENNE\n",
      "+-----------------------------------------------------------------------------------------+---------------------+\n",
      "|                                          Titre                                          | Score de similarité |\n",
      "+-----------------------------------------------------------------------------------------+---------------------+\n",
      "|                                 Kids of the Round Table                                 |         1.0         |\n",
      "|                               Indian in the Cupboard, The                               |         1.0         |\n",
      "|                               NeverEnding Story III, The                                |         1.0         |\n",
      "|                                Escape to Witch Mountain                                 |         1.0         |\n",
      "|                           Darby O'Gill and the Little People                            |         1.0         |\n",
      "|                                      Return to Oz                                       |         1.0         |\n",
      "|                                 NeverEnding Story, The                                  |         1.0         |\n",
      "|                       NeverEnding Story II: The Next Chapter, The                       |         1.0         |\n",
      "|                                 Santa Claus: The Movie                                  |         1.0         |\n",
      "| Harry Potter and the Sorcerer's Stone (a.k.a. Harry Potter and the Philosopher's Stone) |         1.0         |\n",
      "+-----------------------------------------------------------------------------------------+---------------------+\n",
      "RECOMMNDATION SIMILARITES COSINUS\n",
      "+-----------------------------------------------------------------------------------------+---------------------+\n",
      "|                                          Titre                                          | Score de similarité |\n",
      "+-----------------------------------------------------------------------------------------+---------------------+\n",
      "|                                 Kids of the Round Table                                 | 1.0000000000000002  |\n",
      "|                               Indian in the Cupboard, The                               | 1.0000000000000002  |\n",
      "|                               NeverEnding Story III, The                                | 1.0000000000000002  |\n",
      "|                                Escape to Witch Mountain                                 | 1.0000000000000002  |\n",
      "|                           Darby O'Gill and the Little People                            | 1.0000000000000002  |\n",
      "|                                      Return to Oz                                       | 1.0000000000000002  |\n",
      "|                                 NeverEnding Story, The                                  | 1.0000000000000002  |\n",
      "|                       NeverEnding Story II: The Next Chapter, The                       | 1.0000000000000002  |\n",
      "|                                 Santa Claus: The Movie                                  | 1.0000000000000002  |\n",
      "| Harry Potter and the Sorcerer's Stone (a.k.a. Harry Potter and the Philosopher's Stone) | 1.0000000000000002  |\n",
      "+-----------------------------------------------------------------------------------------+---------------------+\n"
     ]
    }
   ],
   "source": [
    "print('RECOMMNDATION SIMILARITES EUCLIDIENNE')\n",
    "print(recommandations('Toy Story', sim_euclidienne))\n",
    "\n",
    "print('RECOMMNDATION SIMILARITES COSINUS')\n",
    "print(recommandations('Toy Story', sim_cosinus))\n",
    "\n",
    "print('RECOMMNDATION SIMILARITES EUCLIDIENNE')\n",
    "print(recommandations(\"Jumanji\", sim_euclidienne))\n",
    "print('RECOMMNDATION SIMILARITES COSINUS')\n",
    "print(recommandations(\"Jumanji\", sim_cosinus))"
   ]
  },
  {
   "cell_type": "code",
   "execution_count": null,
   "metadata": {},
   "outputs": [],
   "source": []
  }
 ],
 "metadata": {
  "kernelspec": {
   "display_name": "reco_movies",
   "language": "python",
   "name": "python3"
  },
  "language_info": {
   "codemirror_mode": {
    "name": "ipython",
    "version": 3
   },
   "file_extension": ".py",
   "mimetype": "text/x-python",
   "name": "python",
   "nbconvert_exporter": "python",
   "pygments_lexer": "ipython3",
   "version": "3.7.12"
  }
 },
 "nbformat": 4,
 "nbformat_minor": 2
}
