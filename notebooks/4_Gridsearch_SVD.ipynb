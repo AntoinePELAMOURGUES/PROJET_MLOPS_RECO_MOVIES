{
 "cells": [
  {
   "cell_type": "code",
   "execution_count": 2,
   "metadata": {},
   "outputs": [],
   "source": [
    "from surprise import Dataset, Reader\n",
    "from surprise.prediction_algorithms.matrix_factorization import SVD\n",
    "from surprise import accuracy\n",
    "import pandas as pd\n",
    "from surprise.model_selection import cross_validate\n",
    "import os\n",
    "from surprise.model_selection import GridSearchCV\n"
   ]
  },
  {
   "cell_type": "code",
   "execution_count": 3,
   "metadata": {},
   "outputs": [],
   "source": [
    "def read_ratings(ratings_csv: str, data_dir: str = \"/home/antoine/Ml_Ops_Movies_Reco/src/data/data/raw\") -> pd.DataFrame:\n",
    "    \"\"\"\n",
    "    Lit le fichier CSV contenant les évaluations des films.\n",
    "\n",
    "    :param ratings_csv: Nom du fichier CSV contenant les évaluations.\n",
    "    :param data_dir: Répertoire où se trouve le fichier CSV.\n",
    "    :return: DataFrame contenant les évaluations.\n",
    "    \"\"\"\n",
    "    data = pd.read_csv(os.path.join(data_dir, ratings_csv))\n",
    "    print(\"Dataset ratings chargé\")\n",
    "    return data\n",
    "\n",
    "def read_movies(movies_csv: str, data_dir: str = \"/home/antoine/Ml_Ops_Movies_Reco/src/data/data/raw\") -> pd.DataFrame:\n",
    "    \"\"\"\n",
    "    Lit le fichier CSV contenant les informations sur les films.\n",
    "\n",
    "    :param movies_csv: Nom du fichier CSV contenant les informations sur les films.\n",
    "    :param data_dir: Répertoire où se trouve le fichier CSV.\n",
    "    :return: DataFrame contenant les informations sur les films.\n",
    "    \"\"\"\n",
    "    df = pd.read_csv(os.path.join(data_dir, movies_csv))\n",
    "    print(\"Dataset movies chargé\")\n",
    "    return df\n",
    "\n",
    "def cross_validation_model(df: pd.DataFrame, model):\n",
    "    reader = Reader(rating_scale = (0.5, 5))\n",
    "    data = Dataset.load_from_df(df[[\"userId\", \"movieId\", \"rating\"]], reader)\n",
    "    algo = model\n",
    "    print(\"Début de la cross_validation\")\n",
    "    print(cross_validate(algo, data, cv=5))\n",
    "    return algo"
   ]
  },
  {
   "cell_type": "code",
   "execution_count": 4,
   "metadata": {},
   "outputs": [
    {
     "name": "stdout",
     "output_type": "stream",
     "text": [
      "Dataset ratings chargé\n",
      "Dataset movies chargé\n"
     ]
    },
    {
     "data": {
      "text/html": [
       "<div>\n",
       "<style scoped>\n",
       "    .dataframe tbody tr th:only-of-type {\n",
       "        vertical-align: middle;\n",
       "    }\n",
       "\n",
       "    .dataframe tbody tr th {\n",
       "        vertical-align: top;\n",
       "    }\n",
       "\n",
       "    .dataframe thead th {\n",
       "        text-align: right;\n",
       "    }\n",
       "</style>\n",
       "<table border=\"1\" class=\"dataframe\">\n",
       "  <thead>\n",
       "    <tr style=\"text-align: right;\">\n",
       "      <th></th>\n",
       "      <th>userId</th>\n",
       "      <th>movieId</th>\n",
       "      <th>rating</th>\n",
       "      <th>timestamp</th>\n",
       "      <th>genres</th>\n",
       "      <th>title</th>\n",
       "    </tr>\n",
       "  </thead>\n",
       "  <tbody>\n",
       "    <tr>\n",
       "      <th>0</th>\n",
       "      <td>1</td>\n",
       "      <td>2</td>\n",
       "      <td>3.5</td>\n",
       "      <td>1112486027</td>\n",
       "      <td>Adventure|Children|Fantasy</td>\n",
       "      <td>Jumanji (1995)</td>\n",
       "    </tr>\n",
       "    <tr>\n",
       "      <th>1</th>\n",
       "      <td>1</td>\n",
       "      <td>29</td>\n",
       "      <td>3.5</td>\n",
       "      <td>1112484676</td>\n",
       "      <td>Adventure|Drama|Fantasy|Mystery|Sci-Fi</td>\n",
       "      <td>City of Lost Children, The (CitÃ© des enfants ...</td>\n",
       "    </tr>\n",
       "    <tr>\n",
       "      <th>2</th>\n",
       "      <td>1</td>\n",
       "      <td>32</td>\n",
       "      <td>3.5</td>\n",
       "      <td>1112484819</td>\n",
       "      <td>Mystery|Sci-Fi|Thriller</td>\n",
       "      <td>Twelve Monkeys (a.k.a. 12 Monkeys) (1995)</td>\n",
       "    </tr>\n",
       "    <tr>\n",
       "      <th>3</th>\n",
       "      <td>1</td>\n",
       "      <td>47</td>\n",
       "      <td>3.5</td>\n",
       "      <td>1112484727</td>\n",
       "      <td>Mystery|Thriller</td>\n",
       "      <td>Seven (a.k.a. Se7en) (1995)</td>\n",
       "    </tr>\n",
       "    <tr>\n",
       "      <th>4</th>\n",
       "      <td>1</td>\n",
       "      <td>50</td>\n",
       "      <td>3.5</td>\n",
       "      <td>1112484580</td>\n",
       "      <td>Crime|Mystery|Thriller</td>\n",
       "      <td>Usual Suspects, The (1995)</td>\n",
       "    </tr>\n",
       "  </tbody>\n",
       "</table>\n",
       "</div>"
      ],
      "text/plain": [
       "   userId  movieId  rating   timestamp  \\\n",
       "0       1        2     3.5  1112486027   \n",
       "1       1       29     3.5  1112484676   \n",
       "2       1       32     3.5  1112484819   \n",
       "3       1       47     3.5  1112484727   \n",
       "4       1       50     3.5  1112484580   \n",
       "\n",
       "                                   genres  \\\n",
       "0              Adventure|Children|Fantasy   \n",
       "1  Adventure|Drama|Fantasy|Mystery|Sci-Fi   \n",
       "2                 Mystery|Sci-Fi|Thriller   \n",
       "3                        Mystery|Thriller   \n",
       "4                  Crime|Mystery|Thriller   \n",
       "\n",
       "                                               title  \n",
       "0                                     Jumanji (1995)  \n",
       "1  City of Lost Children, The (CitÃ© des enfants ...  \n",
       "2          Twelve Monkeys (a.k.a. 12 Monkeys) (1995)  \n",
       "3                        Seven (a.k.a. Se7en) (1995)  \n",
       "4                         Usual Suspects, The (1995)  "
      ]
     },
     "execution_count": 4,
     "metadata": {},
     "output_type": "execute_result"
    }
   ],
   "source": [
    "ratings = read_ratings('ratings.csv')\n",
    "movies = read_movies('movies.csv')\n",
    "\n",
    "df = pd.merge(ratings, movies[['movieId', 'genres', 'title']], on = 'movieId', how = 'left')\n",
    "\n",
    "df.shape\n",
    "\n",
    "df.head()"
   ]
  },
  {
   "cell_type": "code",
   "execution_count": 5,
   "metadata": {},
   "outputs": [
    {
     "data": {
      "text/plain": [
       "(84762, 6)"
      ]
     },
     "execution_count": 5,
     "metadata": {},
     "output_type": "execute_result"
    }
   ],
   "source": [
    "# On sélectionne environ 20 % du dataset\n",
    "new_df = df[df['userId'] <= 600]\n",
    "\n",
    "new_df.shape"
   ]
  },
  {
   "cell_type": "code",
   "execution_count": 6,
   "metadata": {},
   "outputs": [],
   "source": [
    "from surprise import Reader\n",
    "\n",
    "from surprise import Dataset\n",
    "\n",
    "reader = Reader(rating_scale=(0.5, 5))\n",
    "\n",
    "df_surprise = Dataset.load_from_df(new_df[[\"userId\", \"movieId\", \"rating\"]], reader=reader)"
   ]
  },
  {
   "cell_type": "code",
   "execution_count": 7,
   "metadata": {},
   "outputs": [],
   "source": [
    "# Choix d'un utilisateur pour recommandation\n",
    "user_id = 540"
   ]
  },
  {
   "cell_type": "code",
   "execution_count": 8,
   "metadata": {},
   "outputs": [],
   "source": [
    "# Construire le jeu d'entraînement complet à partir du DataFrame df_surprise\n",
    "train_set = df_surprise.build_full_trainset()\n",
    "\n",
    "# Initialiser une liste vide pour stocker les paires (utilisateur, film) pour le jeu \"anti-testset\"\n",
    "anti_testset = []\n",
    "\n",
    "# Convertir l'ID de l'utilisateur externe en l'ID interne utilisé par Surprise\n",
    "targetUser = train_set.to_inner_uid(user_id)\n",
    "\n",
    "# Obtenir la valeur de remplissage à utiliser (moyenne globale des notes du jeu d'entraînement)\n",
    "moyenne = train_set.global_mean\n",
    "\n",
    "# Obtenir les évaluations de l'utilisateur cible pour les films\n",
    "user_note = train_set.ur[targetUser]\n",
    "\n",
    "# Extraire la liste des films notés par l'utilisateur\n",
    "user_film= [item for (item,_) in (user_note)]\n",
    "\n",
    "# Obtenir toutes les notations du jeu d'entraînement\n",
    "ratings = train_set.all_ratings()\n",
    "\n",
    "# Boucle sur tous les items du jeu d'entraînement\n",
    "for film in train_set.all_items():\n",
    "\n",
    "    # Si l'item n'a pas été noté par l'utilisateur\n",
    "    if film not in user_film:\n",
    "        # Ajouter la paire (utilisateur, films, valeur de remplissage) à la liste \"anti-testset\"\n",
    "        anti_testset.append((user_id, train_set.to_raw_iid(film), moyenne))"
   ]
  },
  {
   "cell_type": "code",
   "execution_count": 13,
   "metadata": {},
   "outputs": [],
   "source": [
    "svd = SVD()\n",
    "\n",
    "param_grid = {'n_factors': [100,150],\n",
    "              'n_epochs': [20,25,30],\n",
    "              'lr_all':[0.005,0.01,0.1],\n",
    "              'reg_all':[0.02,0.05,0.1]}\n",
    "\n",
    "grid_search = GridSearchCV(SVD, param_grid, measures=['rmse','mae'], cv=3)\n",
    "\n",
    "grid_search.fit(df_surprise)"
   ]
  },
  {
   "cell_type": "code",
   "execution_count": 14,
   "metadata": {},
   "outputs": [
    {
     "name": "stdout",
     "output_type": "stream",
     "text": [
      "0.8021428231692677\n",
      "0.6132315699246139\n",
      "{'n_factors': 150, 'n_epochs': 30, 'lr_all': 0.01, 'reg_all': 0.05}\n",
      "Evaluating RMSE, MAE of algorithm SVD on 5 split(s).\n",
      "\n",
      "                  Fold 1  Fold 2  Fold 3  Fold 4  Fold 5  Mean    Std     \n",
      "RMSE (testset)    0.7942  0.7931  0.7942  0.7927  0.7936  0.7936  0.0006  \n",
      "MAE (testset)     0.6075  0.6066  0.6073  0.6058  0.6067  0.6068  0.0006  \n",
      "Fit time          51.08   53.08   55.89   52.79   54.14   53.40   1.59    \n",
      "Test time         7.84    6.39    9.14    7.77    7.74    7.77    0.87    \n"
     ]
    },
    {
     "data": {
      "text/plain": [
       "{'test_rmse': array([0.79422785, 0.79311891, 0.79416254, 0.79273502, 0.79357568]),\n",
       " 'test_mae': array([0.60748158, 0.60659135, 0.60731922, 0.60575252, 0.60671391]),\n",
       " 'fit_time': (51.075568199157715,\n",
       "  53.07694411277771,\n",
       "  55.89328098297119,\n",
       "  52.79136347770691,\n",
       "  54.13805341720581),\n",
       " 'test_time': (7.836791276931763,\n",
       "  6.387066841125488,\n",
       "  9.137169599533081,\n",
       "  7.76590371131897,\n",
       "  7.741337537765503)}"
      ]
     },
     "execution_count": 14,
     "metadata": {},
     "output_type": "execute_result"
    }
   ],
   "source": [
    "print(grid_search.best_score['rmse'])\n",
    "\n",
    "print(grid_search.best_score['mae'])\n",
    "\n",
    "print(grid_search.best_params['rmse'])\n",
    "\n",
    "tunedSVD = grid_search.best_estimator['rmse']\n",
    "\n",
    "cross_validate(tunedSVD, df_surprise, measures=['RMSE', 'MAE'], cv=5, verbose=True)"
   ]
  },
  {
   "cell_type": "code",
   "execution_count": null,
   "metadata": {},
   "outputs": [],
   "source": []
  }
 ],
 "metadata": {
  "kernelspec": {
   "display_name": "tensorflow",
   "language": "python",
   "name": "python3"
  },
  "language_info": {
   "codemirror_mode": {
    "name": "ipython",
    "version": 3
   },
   "file_extension": ".py",
   "mimetype": "text/x-python",
   "name": "python",
   "nbconvert_exporter": "python",
   "pygments_lexer": "ipython3",
   "version": "3.12.2"
  }
 },
 "nbformat": 4,
 "nbformat_minor": 2
}
